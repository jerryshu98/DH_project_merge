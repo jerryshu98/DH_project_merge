{
 "cells": [
  {
   "cell_type": "code",
   "execution_count": 1,
   "metadata": {},
   "outputs": [],
   "source": [
    "import sys\n",
    "import numpy as np\n",
    "import matplotlib.pyplot as plt\n",
    "import pandas as pd\n",
    "import csv\n",
    "import math\n",
    "from sklearn.preprocessing import LabelEncoder\n",
    "from sklearn.model_selection import train_test_split\n",
    "import os\n",
    "os.environ['TF_CPP_MIN_LOG_LEVEL'] = '2'  # or '3' to suppress all messages\n",
    "import tensorflow as tf\n",
    "from sklearn.preprocessing import MinMaxScaler\n",
    "from sklearn.metrics import roc_auc_score\n",
    "import matplotlib.pyplot as plt\n",
    "from sklearn.metrics import roc_curve, auc\n",
    "label_encoder = LabelEncoder()\n",
    "pd.options.mode.chained_assignment = None\n"
   ]
  },
  {
   "cell_type": "code",
   "execution_count": 505,
   "metadata": {},
   "outputs": [
    {
     "name": "stdout",
     "output_type": "stream",
     "text": [
      "Index(['Unnamed: 0', 'charttime', 'stay_id', 'O2_flow_x', 'heart_rate', 'sbp',\n",
      "       'dbp', 'mbp', 'resp_rate', 'spo2', 'O2_flow_y', 'peep', 'fio2',\n",
      "       'tidal_volume_observed', 'respiratory_rate_set', 'plateau_pressure',\n",
      "       'GCS', 'age_now', 'gender', 'insurance', 'race', 'admission_type',\n",
      "       'first_careunit', 'tobacco', 'label', 'Rev_h', 'dod_h', 'BMI', 'RSBI',\n",
      "       'minute_ventilation'],\n",
      "      dtype='object')\n",
      "0        2144-01-11 20:00:00\n",
      "1        2144-01-11 21:00:00\n",
      "2        2144-01-11 22:00:00\n",
      "3        2144-01-11 23:00:00\n",
      "4        2144-01-12 00:00:00\n",
      "                ...         \n",
      "68155    2124-08-21 05:00:00\n",
      "68156    2124-08-21 06:00:00\n",
      "68157    2124-08-21 07:00:00\n",
      "68158    2124-08-21 08:00:00\n",
      "68159    2124-08-21 09:00:00\n",
      "Name: charttime, Length: 68160, dtype: object\n"
     ]
    }
   ],
   "source": [
    "label_path = './data/data_by_table/pre_24h_data_v3.csv'\n",
    "flag_data_path = './data/data_by_table/ground_truth.csv'\n",
    "raw_data_path = './data/data_by_table/pre_24_merged_29_cols.csv'\n",
    "\n",
    "data_df = pd.read_csv(label_path)\n",
    "flag_data_df = pd.read_csv(flag_data_path)\n",
    "label_df = pd.read_csv(label_path)\n",
    "data_df['BMI'] = data_df['weight_kg'] / ((data_df['height_cm'] / 100) ** 2)\n",
    "data_df['gender'] = label_encoder.fit_transform(data_df['gender'])\n",
    "data_df['race'] = label_encoder.fit_transform(data_df['race'])\n",
    "data_df['first_careunit'] = label_encoder.fit_transform(data_df['first_careunit'])\n",
    "data_df['admission_type'] = label_encoder.fit_transform(data_df['admission_type'])\n",
    "data_df['insurance'] = label_encoder.fit_transform(data_df['insurance'])\n",
    "data_df = data_df.drop(columns=['height_cm', 'weight_kg'])\n",
    "data_df['RSBI'] =  data_df['tidal_volume_observed'] / data_df['resp_rate']\n",
    "data_df['minute_ventilation'] = data_df['tidal_volume_observed'] * data_df['resp_rate']\n",
    "print(data_df.columns)\n",
    "print(data_df['charttime'])"
   ]
  },
  {
   "cell_type": "code",
   "execution_count": 429,
   "metadata": {},
   "outputs": [],
   "source": [
    "def check_missing_values(df):\n",
    "    \n",
    "    if df.isna().any().any():\n",
    "        return 1 \n",
    "    else:\n",
    "        return 0 "
   ]
  },
  {
   "cell_type": "code",
   "execution_count": 430,
   "metadata": {},
   "outputs": [],
   "source": [
    "def get_label(id_df):\n",
    "    label = 0\n",
    "    if not check_missing_values(id_df):\n",
    "            label = id_df['label'].iloc[0]\n",
    "            if label == 1:\n",
    "                label = -72\n",
    "            else:\n",
    "                if id_df['Rev_h'].iloc[0] != -1000:\n",
    "                    label = 48 - id_df['Rev_h'].iloc[0]\n",
    "                elif id_df['dod_h'].iloc[0] != -1000 and id_df['dod_h'].iloc[0]>0 and id_df['dod_h'].iloc[0]<48:\n",
    "                    label = (96 - id_df['dod_h'].iloc[0]*2)\n",
    "                else:\n",
    "                    label = 96 \n",
    "    return label"
   ]
  },
  {
   "cell_type": "code",
   "execution_count": 273,
   "metadata": {},
   "outputs": [],
   "source": [
    "def lstm_data(flag_data_df, data_df):\n",
    "    total_x = []\n",
    "    total_y = []\n",
    "    for index, row in flag_data_df.iterrows():\n",
    "        id_df = data_df[data_df['stay_id'] == row['stay_id']]\n",
    "        if not check_missing_values(id_df):\n",
    "            label = get_label(id_df)\n",
    "            id_df = id_df.drop(columns='stay_id')\n",
    "            id_df = id_df.drop(columns='label')\n",
    "            id_df = id_df.drop(columns='charttime')\n",
    "            id_df = id_df.drop(columns='Rev_h')\n",
    "            id_df = id_df.drop(columns='dod_h')\n",
    "            total_x.append(id_df.values)\n",
    "            total_y.append(label)\n",
    "\n",
    "    total_x = np.array(total_x)\n",
    "    total_y = np.array(total_y).reshape(-1, 1)\n",
    "    return total_x, total_y"
   ]
  },
  {
   "cell_type": "code",
   "execution_count": 491,
   "metadata": {},
   "outputs": [],
   "source": [
    "def get_diff_value(df,colname,start, end):\n",
    "    start = 23 - start\n",
    "    end = 23 - end\n",
    "    df = df.reset_index()\n",
    "    return (df[colname][end]+df[colname][end-1]+df[colname][end-2]) - (df[colname][start]+df[colname][start+1]+df[colname][start+2])\n",
    "\n",
    "def get_max_min(df,colname):\n",
    "    max_value = df[colname].max()\n",
    "    min_value = df[colname].min()\n",
    "    result = max_value - min_value\n",
    "    return result\n",
    "\n",
    "def get_min(df, col):\n",
    "    if df.empty or col not in df.columns:\n",
    "        return float('nan')\n",
    "    else:\n",
    "        return df[col].min()\n",
    "\n",
    "def get_max(df, col):\n",
    "    if df.empty or col not in df.columns:\n",
    "        return float('nan')\n",
    "    else:\n",
    "        return df[col].max()\n",
    "\n",
    "def get_mean(df, col):\n",
    "    return df[col].mean()"
   ]
  },
  {
   "cell_type": "code",
   "execution_count": 366,
   "metadata": {},
   "outputs": [
    {
     "data": {
      "text/plain": [
       "\"\\n'charttime', 'stay_id', 'O2_flow_x', 'heart_rate', 'sbp',\\n'dbp', 'mbp', 'resp_rate', 'spo2', 'O2_flow_y', 'peep', 'fio2',\\n'tidal_volume_observed', 'respiratory_rate_set', 'plateau_pressure',\\n'GCS', 'age_now', 'gender', 'insurance', 'race', 'admission_type',\\n'first_careunit', 'tobacco', 'label', 'Rev_h', 'dod_h', 'BMI'],\\n\""
      ]
     },
     "execution_count": 366,
     "metadata": {},
     "output_type": "execute_result"
    }
   ],
   "source": [
    "'''\n",
    "'charttime', 'stay_id', 'O2_flow_x', 'heart_rate', 'sbp',\n",
    "'dbp', 'mbp', 'resp_rate', 'spo2', 'O2_flow_y', 'peep', 'fio2',\n",
    "'tidal_volume_observed', 'respiratory_rate_set', 'plateau_pressure',\n",
    "'GCS', 'age_now', 'gender', 'insurance', 'race', 'admission_type',\n",
    "'first_careunit', 'tobacco', 'label', 'Rev_h', 'dod_h', 'BMI'],\n",
    "'''"
   ]
  },
  {
   "cell_type": "code",
   "execution_count": 485,
   "metadata": {},
   "outputs": [],
   "source": [
    "def generate_more_feature(df, columns, feature_list):\n",
    "    for col in columns:\n",
    "        feature_list = np.append(feature_list, get_diff_value(df,col,10,0))\n",
    "        feature_list = np.append(feature_list, get_diff_value(df,col,20,0))\n",
    "        feature_list = np.append(feature_list, df[col].std())\n",
    "        feature_list = np.append(feature_list,  get_max_min(df, col))\n",
    "        feature_list = np.append(feature_list,  get_min(df, col))\n",
    "        feature_list = np.append(feature_list,  get_max(df, col))\n",
    "        feature_list = np.append(feature_list,  get_mean(df, col))\n",
    "    return feature_list"
   ]
  },
  {
   "cell_type": "code",
   "execution_count": 486,
   "metadata": {},
   "outputs": [],
   "source": [
    "aug_columns = ['spo2','peep','heart_rate','respiratory_rate_set','plateau_pressure','tidal_volume_observed','fio2','O2_flow_x','sbp','dbp','mbp','resp_rate','RSBI','minute_ventilation']\n",
    "\n",
    "def NN_data(flag_data_df, data_df,label_df,  hour = 23):\n",
    "    total_x = []\n",
    "    total_y = []\n",
    "    for index, row in flag_data_df.iterrows():\n",
    "        id_df = data_df[data_df['stay_id'] == row['stay_id']]\n",
    "        id_df_label = label_df[label_df['stay_id'] == row['stay_id']]\n",
    "        if not check_missing_values(id_df):\n",
    "            label = get_label(id_df_label)\n",
    "            id_df = id_df.drop(columns='stay_id')\n",
    "            id_df = id_df.drop(columns='label')\n",
    "            id_df = id_df.drop(columns='charttime')\n",
    "            id_df = id_df.drop(columns='Rev_h')\n",
    "            id_df = id_df.drop(columns='dod_h')\n",
    "\n",
    "            \n",
    "            zero_hr_values = id_df.iloc[hour, :].values\n",
    "            zero_hr_values = generate_more_feature(id_df, aug_columns ,zero_hr_values)\n",
    "\n",
    "\n",
    "            total_x.append(zero_hr_values)\n",
    "            total_y.append(label)\n",
    "    total_x = np.array(total_x)\n",
    "    total_y = np.array(total_y).reshape(-1, 1)\n",
    "    return total_x, total_y\n",
    "        "
   ]
  },
  {
   "cell_type": "code",
   "execution_count": 418,
   "metadata": {},
   "outputs": [],
   "source": [
    "lstm_x, lstm_y = lstm_data(flag_data_df, data_df)"
   ]
  },
  {
   "cell_type": "code",
   "execution_count": 249,
   "metadata": {},
   "outputs": [],
   "source": [
    "import tensorflow as tf\n",
    "from sklearn.model_selection import train_test_split\n",
    "\n",
    "def train_module(X_train, y_train, X_test, y_test, epoch, learning_rate, batch):\n",
    "\n",
    "    # Define model and train\n",
    "    def build_lstm_model(timesteps, num_features):\n",
    "        model = tf.keras.Sequential([\n",
    "            tf.keras.layers.LSTM(128, input_shape=(timesteps, num_features)),\n",
    "            tf.keras.layers.Dense(1) \n",
    "        ])\n",
    "        model.build(input_shape=(None, timesteps, num_features))\n",
    "        return model\n",
    "\n",
    "    model = build_lstm_model(timesteps=X_train.shape[1], num_features=X_train.shape[2])\n",
    "\n",
    "    model.compile(optimizer = tf.keras.optimizers.legacy.Adam(learning_rate=learning_rate), loss='mean_squared_error') \n",
    "\n",
    "    model.fit(X_train, y_train, epochs=epoch, batch_size=batch, validation_data=(X_test, y_test))\n",
    "    return model\n",
    "\n"
   ]
  },
  {
   "cell_type": "code",
   "execution_count": 501,
   "metadata": {},
   "outputs": [],
   "source": [
    "def train_NN_module(X_train, y_train, X_test, y_test, epoch, learning_rate, batch, verbose=1):\n",
    "\n",
    "    # Define model and train\n",
    "    def build_nn_model(input_shape):\n",
    "        model = tf.keras.models.Sequential([\n",
    "            tf.keras.layers.Dense(256, activation='relu', input_shape=input_shape),\n",
    "            tf.keras.layers.Dense(128, activation='relu'),\n",
    "            tf.keras.layers.Dense(32, activation='relu'),\n",
    "            tf.keras.layers.Dense(1)\n",
    "        ])\n",
    "        model.compile(optimizer=tf.keras.optimizers.Adam(learning_rate=learning_rate),\n",
    "                      loss='mean_squared_error')\n",
    "        return model\n",
    "\n",
    "    # Build and compile the model\n",
    "    model = build_nn_model(input_shape=(X_train.shape[1],))\n",
    "\n",
    "    model.compile(optimizer = tf.keras.optimizers.legacy.Adam(learning_rate=learning_rate), loss='mean_squared_error') \n",
    "\n",
    "    model.fit(X_train, y_train, epochs=epoch, batch_size=batch, validation_data=(X_test, y_test), verbose=verbose)\n",
    "    return model"
   ]
  },
  {
   "cell_type": "code",
   "execution_count": 492,
   "metadata": {},
   "outputs": [
    {
     "name": "stdout",
     "output_type": "stream",
     "text": [
      "(2003, 123)\n",
      "(2003, 1)\n"
     ]
    }
   ],
   "source": [
    "total_x, total_y = NN_data(flag_data_df, data_df, label_df, 23)\n",
    "print(total_x.shape)\n",
    "print(total_y.shape)"
   ]
  },
  {
   "cell_type": "code",
   "execution_count": 502,
   "metadata": {},
   "outputs": [
    {
     "name": "stdout",
     "output_type": "stream",
     "text": [
      "(1602, 123)\n",
      "(1602, 1)\n",
      "Epoch 1/50\n",
      "51/51 [==============================] - 1s 9ms/step - loss: 4401.5273 - val_loss: 3984.8567\n",
      "Epoch 2/50\n",
      "51/51 [==============================] - 0s 6ms/step - loss: 4098.0347 - val_loss: 3825.9060\n",
      "Epoch 3/50\n",
      "51/51 [==============================] - 0s 5ms/step - loss: 3806.5608 - val_loss: 3516.1355\n",
      "Epoch 4/50\n",
      "51/51 [==============================] - 0s 6ms/step - loss: 3453.1475 - val_loss: 3384.9963\n",
      "Epoch 5/50\n",
      "51/51 [==============================] - 0s 7ms/step - loss: 3157.7651 - val_loss: 3163.5830\n",
      "Epoch 6/50\n",
      "51/51 [==============================] - 0s 5ms/step - loss: 3075.4646 - val_loss: 3040.4065\n",
      "Epoch 7/50\n",
      "51/51 [==============================] - 0s 5ms/step - loss: 2987.7891 - val_loss: 3138.0601\n",
      "Epoch 8/50\n",
      "51/51 [==============================] - 0s 5ms/step - loss: 2958.0205 - val_loss: 3142.8953\n",
      "Epoch 9/50\n",
      "51/51 [==============================] - 0s 5ms/step - loss: 2934.5693 - val_loss: 2990.8923\n",
      "Epoch 10/50\n",
      "51/51 [==============================] - 0s 5ms/step - loss: 2903.5317 - val_loss: 2975.9812\n",
      "Epoch 11/50\n",
      "51/51 [==============================] - 0s 6ms/step - loss: 2941.9482 - val_loss: 2976.3213\n",
      "Epoch 12/50\n",
      "51/51 [==============================] - 0s 5ms/step - loss: 2869.3523 - val_loss: 2986.8081\n",
      "Epoch 13/50\n",
      "51/51 [==============================] - 0s 5ms/step - loss: 2954.4521 - val_loss: 2971.9014\n",
      "Epoch 14/50\n",
      "51/51 [==============================] - 0s 5ms/step - loss: 2891.9163 - val_loss: 3061.3408\n",
      "Epoch 15/50\n",
      "51/51 [==============================] - 0s 5ms/step - loss: 2972.6650 - val_loss: 3044.5312\n",
      "Epoch 16/50\n",
      "51/51 [==============================] - 0s 5ms/step - loss: 2883.7000 - val_loss: 2986.0962\n",
      "Epoch 17/50\n",
      "51/51 [==============================] - 0s 5ms/step - loss: 2836.8398 - val_loss: 2964.3792\n",
      "Epoch 18/50\n",
      "51/51 [==============================] - 0s 5ms/step - loss: 2822.3911 - val_loss: 3099.1470\n",
      "Epoch 19/50\n",
      "51/51 [==============================] - 0s 5ms/step - loss: 2852.2634 - val_loss: 2962.1936\n",
      "Epoch 20/50\n",
      "51/51 [==============================] - 0s 5ms/step - loss: 2857.9263 - val_loss: 3051.5186\n",
      "Epoch 21/50\n",
      "51/51 [==============================] - 0s 5ms/step - loss: 2842.6360 - val_loss: 2961.0566\n",
      "Epoch 22/50\n",
      "51/51 [==============================] - 0s 5ms/step - loss: 2851.7610 - val_loss: 3077.9226\n",
      "Epoch 23/50\n",
      "51/51 [==============================] - 0s 5ms/step - loss: 2832.4182 - val_loss: 2959.4119\n",
      "Epoch 24/50\n",
      "51/51 [==============================] - 0s 5ms/step - loss: 2907.8574 - val_loss: 2975.1990\n",
      "Epoch 25/50\n",
      "51/51 [==============================] - 0s 5ms/step - loss: 2805.7263 - val_loss: 2968.4680\n",
      "Epoch 26/50\n",
      "51/51 [==============================] - 0s 5ms/step - loss: 2844.4373 - val_loss: 2988.3057\n",
      "Epoch 27/50\n",
      "51/51 [==============================] - 0s 5ms/step - loss: 2811.7998 - val_loss: 3044.3840\n",
      "Epoch 28/50\n",
      "51/51 [==============================] - 0s 6ms/step - loss: 2835.6887 - val_loss: 2968.2129\n",
      "Epoch 29/50\n",
      "51/51 [==============================] - 0s 5ms/step - loss: 2804.3250 - val_loss: 2968.3044\n",
      "Epoch 30/50\n",
      "51/51 [==============================] - 0s 5ms/step - loss: 2792.6587 - val_loss: 3005.0256\n",
      "Epoch 31/50\n",
      "51/51 [==============================] - 0s 5ms/step - loss: 2855.1160 - val_loss: 2990.9712\n",
      "Epoch 32/50\n",
      "51/51 [==============================] - 0s 5ms/step - loss: 2779.2078 - val_loss: 2976.1077\n",
      "Epoch 33/50\n",
      "51/51 [==============================] - 0s 5ms/step - loss: 2800.5061 - val_loss: 3011.8430\n",
      "Epoch 34/50\n",
      "51/51 [==============================] - 0s 5ms/step - loss: 2809.2041 - val_loss: 2969.3726\n",
      "Epoch 35/50\n",
      "51/51 [==============================] - 0s 5ms/step - loss: 2805.6731 - val_loss: 3017.5381\n",
      "Epoch 36/50\n",
      "51/51 [==============================] - 0s 5ms/step - loss: 2871.0852 - val_loss: 2976.5420\n",
      "Epoch 37/50\n",
      "51/51 [==============================] - 0s 5ms/step - loss: 2759.2439 - val_loss: 2992.1875\n",
      "Epoch 38/50\n",
      "51/51 [==============================] - 0s 5ms/step - loss: 2784.0464 - val_loss: 3002.4253\n",
      "Epoch 39/50\n",
      "51/51 [==============================] - 0s 5ms/step - loss: 2788.3083 - val_loss: 2996.8562\n",
      "Epoch 40/50\n",
      "51/51 [==============================] - 0s 5ms/step - loss: 2766.4827 - val_loss: 2979.3701\n",
      "Epoch 41/50\n",
      "51/51 [==============================] - 0s 5ms/step - loss: 2781.1614 - val_loss: 2990.6169\n",
      "Epoch 42/50\n",
      "51/51 [==============================] - 0s 6ms/step - loss: 2738.5688 - val_loss: 2982.0518\n",
      "Epoch 43/50\n",
      "51/51 [==============================] - 0s 5ms/step - loss: 2787.9700 - val_loss: 2956.8816\n",
      "Epoch 44/50\n",
      "51/51 [==============================] - 0s 5ms/step - loss: 2733.5686 - val_loss: 3192.1011\n",
      "Epoch 45/50\n",
      "51/51 [==============================] - 0s 5ms/step - loss: 2789.2561 - val_loss: 2980.3542\n",
      "Epoch 46/50\n",
      "51/51 [==============================] - 0s 5ms/step - loss: 2764.3384 - val_loss: 3078.7053\n",
      "Epoch 47/50\n",
      "51/51 [==============================] - 0s 5ms/step - loss: 2752.4165 - val_loss: 2962.9907\n",
      "Epoch 48/50\n",
      "51/51 [==============================] - 0s 5ms/step - loss: 2728.2627 - val_loss: 2985.0867\n",
      "Epoch 49/50\n",
      "51/51 [==============================] - 0s 5ms/step - loss: 2792.3040 - val_loss: 3011.4114\n",
      "Epoch 50/50\n",
      "51/51 [==============================] - 0s 5ms/step - loss: 2794.1133 - val_loss: 2958.9299\n"
     ]
    }
   ],
   "source": [
    "# total_x = lstm_x\n",
    "# total_y = lstm_y\n",
    "total_x = total_x.astype(np.float32)\n",
    "total_y = total_y.astype(np.float32)\n",
    "total_x[np.isinf(total_x)] = np.nan\n",
    "total_x[np.abs(total_x) > 1e6] = np.nan\n",
    "# Handle NaN values by replacing them with zeros (you can choose a different strategy)\n",
    "total_x[np.isnan(total_x)] = 0.0\n",
    "scaler = MinMaxScaler()\n",
    "total_x_normalized = scaler.fit_transform(total_x.reshape(-1, total_x.shape[-1])).reshape(total_x.shape)\n",
    "\n",
    "X_train, X_test, y_train, y_test = train_test_split(total_x_normalized, total_y, test_size=0.2, random_state=4277)\n",
    "print(X_train.shape)\n",
    "print(y_train.shape)\n",
    "model = train_NN_module(X_train, y_train, X_test, y_test, epoch= 50, learning_rate=0.001, batch=32)"
   ]
  },
  {
   "cell_type": "code",
   "execution_count": 503,
   "metadata": {},
   "outputs": [
    {
     "name": "stdout",
     "output_type": "stream",
     "text": [
      "13/13 [==============================] - 0s 3ms/step\n"
     ]
    }
   ],
   "source": [
    "y_pred_proba = model.predict(X_test)\n",
    "y_pred = np.where(y_pred_proba > 0, 1, 0)\n",
    "y_label = np.where(y_test > 0, 1, 0)"
   ]
  },
  {
   "cell_type": "code",
   "execution_count": 504,
   "metadata": {},
   "outputs": [
    {
     "name": "stdout",
     "output_type": "stream",
     "text": [
      "AUC-ROC: 0.7367009511170095\n"
     ]
    },
    {
     "data": {
      "image/png": "[encoded data removed]",
      "text/plain": [
       "<Figure size 800x800 with 1 Axes>"
      ]
     },
     "metadata": {},
     "output_type": "display_data"
    }
   ],
   "source": [
    "fpr, tpr, _ = roc_curve(y_label, y_pred_proba)\n",
    "roc_auc = auc(fpr, tpr)\n",
    "print(\"AUC-ROC:\", roc_auc)\n",
    "# Plot ROC curve\n",
    "plt.figure(figsize=(8, 8))\n",
    "plt.plot(fpr, tpr, color='darkorange', lw=2, label='ROC curve (area = {:.2f})'.format(roc_auc))\n",
    "plt.plot([0, 1], [0, 1], color='navy', lw=2, linestyle='--')\n",
    "plt.xlabel('False Positive Rate')\n",
    "plt.ylabel('True Positive Rate')\n",
    "plt.title('Receiver Operating Characteristic (ROC) Curve')\n",
    "plt.legend(loc='lower right')\n",
    "plt.show()"
   ]
  },
  {
   "cell_type": "markdown",
   "metadata": {},
   "source": [
    "# experiment"
   ]
  },
  {
   "cell_type": "code",
   "execution_count": 363,
   "metadata": {},
   "outputs": [
    {
     "name": "stdout",
     "output_type": "stream",
     "text": [
      "13/13 [==============================] - 0s 3ms/step\n",
      "0 0.7139299397920089\n",
      "13/13 [==============================] - 0s 3ms/step\n",
      "1 0.7057744937055281\n",
      "13/13 [==============================] - 0s 3ms/step\n",
      "2 0.7212917350848387\n",
      "13/13 [==============================] - 0s 2ms/step\n",
      "3 0.7105090311986864\n",
      "13/13 [==============================] - 0s 2ms/step\n",
      "4 0.7060755336617406\n",
      "13/13 [==============================] - 0s 2ms/step\n",
      "5 0.7070607553366175\n",
      "13/13 [==============================] - 0s 2ms/step\n",
      "6 0.6904761904761905\n",
      "13/13 [==============================] - 0s 2ms/step\n",
      "7 0.6740284619594965\n",
      "13/13 [==============================] - 0s 2ms/step\n",
      "8 0.6889162561576355\n",
      "13/13 [==============================] - 0s 2ms/step\n",
      "9 0.687055281882868\n",
      "13/13 [==============================] - 0s 2ms/step\n",
      "10 0.6985495347564313\n",
      "13/13 [==============================] - 0s 3ms/step\n",
      "11 0.7072523262178434\n",
      "13/13 [==============================] - 0s 3ms/step\n",
      "12 0.7138204707170225\n",
      "13/13 [==============================] - 0s 2ms/step\n",
      "13 0.7068965517241379\n",
      "13/13 [==============================] - 0s 3ms/step\n",
      "14 0.6844280240831966\n",
      "13/13 [==============================] - 0s 5ms/step\n",
      "15 0.6741105637657361\n",
      "13/13 [==============================] - 0s 3ms/step\n",
      "16 0.6849206349206348\n",
      "13/13 [==============================] - 0s 3ms/step\n",
      "17 0.707662835249042\n",
      "13/13 [==============================] - 0s 3ms/step\n",
      "18 0.7064586754241928\n",
      "13/13 [==============================] - 0s 3ms/step\n",
      "19 0.6821291735084838\n",
      "13/13 [==============================] - 0s 2ms/step\n",
      "20 0.6886152162014232\n",
      "13/13 [==============================] - 0s 2ms/step\n",
      "21 0.7004926108374384\n",
      "13/13 [==============================] - 0s 3ms/step\n",
      "22 0.7118773946360153\n",
      "13/13 [==============================] - 0s 2ms/step\n",
      "23 0.7277504105090313\n"
     ]
    }
   ],
   "source": [
    "hour_before_weaninig = []\n",
    "auroc = []\n",
    "models = []\n",
    "\n",
    "for i in range (24):\n",
    "    total_x, total_y = NN_data(flag_data_df, data_df, i)\n",
    "    total_x = total_x.astype(np.float32)\n",
    "    total_y = total_y.astype(np.float32)\n",
    "    total_x[np.isinf(total_x)] = np.nan\n",
    "    total_x[np.abs(total_x) > 1e6] = np.nan\n",
    "    total_x[np.isnan(total_x)] = 0.0\n",
    "    scaler = MinMaxScaler()\n",
    "    total_x_normalized = scaler.fit_transform(total_x.reshape(-1, total_x.shape[-1])).reshape(total_x.shape)\n",
    "    X_train, X_test, y_train, y_test = train_test_split(total_x_normalized, total_y, test_size=0.2, random_state=42)\n",
    "    model = train_NN_module(X_train, y_train, X_test, y_test, epoch= 100, learning_rate=0.001, batch=32, verbose=0)\n",
    "    y_pred_proba = model.predict(X_test)\n",
    "    y_pred = np.where(y_pred_proba > 0, 1, 0)\n",
    "    y_label = np.where(y_test > 0, 1, 0)\n",
    "    fpr, tpr, _ = roc_curve(y_label, y_pred_proba)\n",
    "    roc_auc = auc(fpr, tpr)\n",
    "    hour_before_weaninig.append(i)\n",
    "    auroc.append(roc_auc)\n",
    "    models.append(model)\n",
    "    print(i, roc_auc)"
   ]
  },
  {
   "cell_type": "code",
   "execution_count": 362,
   "metadata": {},
   "outputs": [
    {
     "data": {
      "image/png": "[encoded data removed]",
      "text/plain": [
       "<Figure size 640x480 with 1 Axes>"
      ]
     },
     "metadata": {},
     "output_type": "display_data"
    }
   ],
   "source": [
    "import matplotlib.pyplot as plt\n",
    "hour_before_weaninig = hour_before_weaninig[::-1]\n",
    "# 画折线图\n",
    "plt.plot(hour_before_weaninig, auroc, marker='o')\n",
    "\n",
    "# 添加标签和标题\n",
    "plt.xlabel('Hour Before Weaning')\n",
    "plt.ylabel('AUROC')\n",
    "plt.title('AUROC over Time Before Weaning')\n",
    "\n",
    "# 显示图形\n",
    "plt.show()\n"
   ]
  },
  {
   "cell_type": "code",
   "execution_count": null,
   "metadata": {},
   "outputs": [],
   "source": [
    "def plot_next_24h(target_id, data_df, models, hour = 8):\n",
    "    survive_score = []\n",
    "    id_df = data_df[data_df['stay_id'] == target_id]\n",
    "    id_df = id_df.reset_index()\n",
    "    id_df = id_df.drop(columns='label')\n",
    "    id_df = id_df.drop(columns='charttime')\n",
    "    input = id_df.iloc[23-8, :].values\n",
    "    input = input.reshape((1, -1))\n",
    "    print(input.shape)\n",
    "    for i in range (24):\n",
    "        output = models[i].predict(input)\n",
    "        survive_score.append(output[0])\n",
    "    return survive_score\n"
   ]
  },
  {
   "cell_type": "code",
   "execution_count": null,
   "metadata": {},
   "outputs": [],
   "source": [
    "target_id = 30832709\n",
    "survive_score = plot_next_24h(target_id, data_df, models)\n",
    "plt.plot(survive_score, auroc, marker='o')\n",
    "\n",
    "plt.xlabel('after n hour weaning')\n",
    "plt.ylabel('survive_score')\n",
    "plt.title('survive_score over after n hour weaning')\n",
    "\n",
    "plt.show()\n"
   ]
  }
 ],
 "metadata": {
  "kernelspec": {
   "display_name": "Python 3.9.13 ('tensorflow')",
   "language": "python",
   "name": "python3"
  },
  "language_info": {
   "codemirror_mode": {
    "name": "ipython",
    "version": 3
   },
   "file_extension": ".py",
   "mimetype": "text/x-python",
   "name": "python",
   "nbconvert_exporter": "python",
   "pygments_lexer": "ipython3",
   "version": "3.9.13"
  },
  "orig_nbformat": 4,
  "vscode": {
   "interpreter": {
    "hash": "ee7d7838ef53998fd22ad7449b76e48b4013ea11e59d28ee193f2cd757746339"
   }
  }
 },
 "nbformat": 4,
 "nbformat_minor": 2
}
