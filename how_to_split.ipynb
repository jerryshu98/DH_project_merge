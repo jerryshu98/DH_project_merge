{
 "cells": [
  {
   "cell_type": "code",
   "execution_count": 162,
   "metadata": {},
   "outputs": [],
   "source": [
    "import sys\n",
    "import numpy as np\n",
    "import matplotlib.pyplot as plt\n",
    "import pandas as pd\n",
    "import csv\n",
    "import math\n",
    "from sklearn.preprocessing import LabelEncoder\n",
    "from sklearn.model_selection import train_test_split\n",
    "import os\n",
    "os.environ['TF_CPP_MIN_LOG_LEVEL'] = '2'  # or '3' to suppress all messages\n",
    "import tensorflow as tf\n",
    "from sklearn.preprocessing import MinMaxScaler\n",
    "from sklearn.metrics import roc_auc_score, accuracy_score\n",
    "import matplotlib.pyplot as plt\n",
    "from sklearn.metrics import roc_curve, auc\n",
    "import random\n",
    "label_encoder = LabelEncoder()\n",
    "pd.options.mode.chained_assignment = None\n"
   ]
  },
  {
   "cell_type": "code",
   "execution_count": 163,
   "metadata": {},
   "outputs": [
    {
     "name": "stdout",
     "output_type": "stream",
     "text": [
      "Index(['subject_id', 'stay_id', 'hadm_id', 'charttime', 'before_weaning_hr',\n",
      "       'age_now', 'gender', 'insurance', 'race', 'first_careunit',\n",
      "       'admission_type', 'tobacco', 'RSBI', 'minute_ventilation',\n",
      "       'ventilator_mode', 'ventilator_mode_group', 'peep', 'fio2',\n",
      "       'tidal_volume_observed', 'respiratory_rate_set', 'plateau_pressure',\n",
      "       'heart_rate', 'sbp', 'dbp', 'mbp', 'resp_rate', 'spo2', 'label', 'BMI',\n",
      "       'ventilator_mode_group_code'],\n",
      "      dtype='object')\n"
     ]
    }
   ],
   "source": [
    "label_path = './data/data_by_table/pre_24h_data_v6.csv'\n",
    "flag_data_path = './data/data_by_table/ground_truth.csv'\n",
    "raw_data_path = './data/data_by_table/pre_24_merged_30_rows_12_07.csv'\n",
    "mode_data_path = './data/data_by_table/pre_24_merged_30_rows_12_07.csv'\n",
    "\n",
    "data_df = pd.read_csv(mode_data_path)\n",
    "flag_data_df = pd.read_csv(flag_data_path)\n",
    "label_df = pd.read_csv(label_path)\n",
    "mode_df = pd.read_csv(mode_data_path)\n",
    "data_df['BMI'] = data_df['weight_kg'] / ((data_df['height_cm'] / 100) ** 2)\n",
    "data_df['gender'] = label_encoder.fit_transform(data_df['gender'])\n",
    "data_df['race'] = label_encoder.fit_transform(data_df['race'])\n",
    "data_df['first_careunit'] = label_encoder.fit_transform(data_df['first_careunit'])\n",
    "data_df['admission_type'] = label_encoder.fit_transform(data_df['admission_type'])\n",
    "data_df['ventilator_mode_group_code'] = label_encoder.fit_transform(data_df['ventilator_mode_group'])\n",
    "#data_df['ventilator_mode'] = label_encoder.fit_transform(data_df['ventilator_mode'])\n",
    "data_df['insurance'] = label_encoder.fit_transform(data_df['insurance'])\n",
    "data_df = data_df.drop(columns=['height_cm', 'weight_kg'])\n",
    "data_df['RSBI'] =   data_df['resp_rate']/(data_df['tidal_volume_observed']* 0.001) \n",
    "data_df['minute_ventilation'] = data_df['tidal_volume_observed'] * data_df['resp_rate']* 0.001\n",
    "print(data_df.columns)"
   ]
  },
  {
   "cell_type": "code",
   "execution_count": 164,
   "metadata": {},
   "outputs": [
    {
     "name": "stdout",
     "output_type": "stream",
     "text": [
      "2663 2663 2840\n"
     ]
    }
   ],
   "source": [
    "unique_values_data_df = data_df['stay_id'].nunique()\n",
    "unique_values_mode_df = mode_df['stay_id'].nunique()\n",
    "unique_values_label_df = label_df['stay_id'].nunique()\n",
    "\n",
    "print(unique_values_data_df, unique_values_mode_df, unique_values_label_df)"
   ]
  },
  {
   "cell_type": "code",
   "execution_count": 165,
   "metadata": {},
   "outputs": [],
   "source": [
    "def create_patient_group(label_df,mode_df):\n",
    "    alive_list = [[],[],[],[],[],[]]\n",
    "    dead_list = [[],[],[],[],[],[]]\n",
    "    alive_num = [0,0,0,0,0]\n",
    "    dead_num = [0,0,0,0,0]\n",
    "    patient_set = set(mode_df['stay_id'])\n",
    "    for index, row in flag_data_df.iterrows():\n",
    "        if row['stay_id'] not in patient_set:\n",
    "            continue\n",
    "        id_mode_df = mode_df[mode_df['stay_id'] == row['stay_id']]\n",
    "        count_complete_mode = id_mode_df['ventilator_mode_group'].tail(12).value_counts().get('Complete Support', 0)\n",
    "        group_num = int(math.floor(count_complete_mode/3))\n",
    "        label = id_mode_df['label'].iloc[0]\n",
    "        if label == 1:\n",
    "            alive_list[group_num].append(row['stay_id'])\n",
    "            alive_num[group_num]+=1\n",
    "        else:\n",
    "            dead_list[group_num].append(row['stay_id'])\n",
    "            dead_num[group_num]+=1\n",
    "    return alive_list, dead_list, alive_num, dead_num"
   ]
  },
  {
   "cell_type": "code",
   "execution_count": 166,
   "metadata": {},
   "outputs": [
    {
     "name": "stdout",
     "output_type": "stream",
     "text": [
      "[1187, 163, 127, 96, 119]\n",
      "[520, 51, 47, 53, 300]\n"
     ]
    }
   ],
   "source": [
    "alive_list, dead_list, alive_num, dead_num = create_patient_group(label_df,mode_df)\n",
    "print(alive_num)\n",
    "print(dead_num)"
   ]
  },
  {
   "cell_type": "code",
   "execution_count": 167,
   "metadata": {},
   "outputs": [
    {
     "name": "stdout",
     "output_type": "stream",
     "text": [
      "0.30462800234329235\n",
      "0.2383177570093458\n",
      "0.27011494252873564\n",
      "0.35570469798657717\n",
      "0.7159904534606205\n"
     ]
    }
   ],
   "source": [
    "for i in range(5):\n",
    "    print(dead_num[i]/(alive_num[i]+dead_num[i]))"
   ]
  },
  {
   "cell_type": "code",
   "execution_count": 168,
   "metadata": {},
   "outputs": [],
   "source": [
    "def split_list(input_list):\n",
    "    total_length = len(input_list)\n",
    "    part1_length = int(total_length * 0.7)\n",
    "    part2_length = int(total_length * 0.2)\n",
    "    part3_length = total_length - part1_length - part2_length\n",
    "    part1 = random.sample(input_list, part1_length)\n",
    "    remaining_list = [element for element in input_list if element not in part1]\n",
    "\n",
    "    part2 = random.sample(remaining_list, part2_length)\n",
    "    part3 = [element for element in remaining_list if element not in part2]\n",
    "\n",
    "    return part1, part2, part3"
   ]
  },
  {
   "cell_type": "code",
   "execution_count": null,
   "metadata": {},
   "outputs": [],
   "source": [
    "def create_data(alive_list, dead_list):\n",
    "    train_data_id = []\n",
    "    val_data_id = []\n",
    "    test_data_id = []\n",
    "    for i in range(5):\n",
    "        train, val, test = split_list(alive_list)\n",
    "        train_data_id.append(train)\n",
    "        val_data_id.append(val)\n",
    "        test_data_id.append(test)\n",
    "        train, val, test = split_list(dead_list)\n",
    "        train_data_id.append(train)\n",
    "        val_data_id.append(val)\n",
    "        test_data_id.append(test)\n",
    "    "
   ]
  }
 ],
 "metadata": {
  "kernelspec": {
   "display_name": "Python 3.9.13 ('tensorflow')",
   "language": "python",
   "name": "python3"
  },
  "language_info": {
   "codemirror_mode": {
    "name": "ipython",
    "version": 3
   },
   "file_extension": ".py",
   "mimetype": "text/x-python",
   "name": "python",
   "nbconvert_exporter": "python",
   "pygments_lexer": "ipython3",
   "version": "3.9.13"
  },
  "orig_nbformat": 4,
  "vscode": {
   "interpreter": {
    "hash": "ee7d7838ef53998fd22ad7449b76e48b4013ea11e59d28ee193f2cd757746339"
   }
  }
 },
 "nbformat": 4,
 "nbformat_minor": 2
}
