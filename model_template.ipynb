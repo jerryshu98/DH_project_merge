{
 "cells": [
  {
   "cell_type": "code",
   "execution_count": 24,
   "metadata": {},
   "outputs": [],
   "source": [
    "import sys\n",
    "import numpy as np\n",
    "import matplotlib.pyplot as plt\n",
    "import pandas as pd\n",
    "import csv\n",
    "import math\n",
    "from sklearn.preprocessing import LabelEncoder\n",
    "from sklearn.model_selection import train_test_split\n",
    "import os\n",
    "os.environ['TF_CPP_MIN_LOG_LEVEL'] = '2'  # or '3' to suppress all messages\n",
    "import tensorflow as tf\n",
    "from sklearn.preprocessing import MinMaxScaler\n",
    "from sklearn.metrics import roc_auc_score\n",
    "label_encoder = LabelEncoder()\n",
    "pd.options.mode.chained_assignment = None\n"
   ]
  },
  {
   "cell_type": "code",
   "execution_count": 3,
   "metadata": {},
   "outputs": [],
   "source": [
    "raw_data_path = './data/prive_24h_data.csv'\n",
    "flag_data_path = './data/ground_truth_11_18.csv'\n",
    "\n",
    "data_df = pd.read_csv(raw_data_path)\n",
    "flag_data_df = pd.read_csv(flag_data_path)\n",
    "data_df['gender'] = label_encoder.fit_transform(data_df['gender'])\n",
    "data_df['race'] = label_encoder.fit_transform(data_df['race'])\n",
    "data_df['admission_type_x'] = label_encoder.fit_transform(data_df['admission_type_x'])\n",
    "data_df['first_careunit'] = label_encoder.fit_transform(data_df['first_careunit'])\n",
    "data_df['admission_type_y'] = label_encoder.fit_transform(data_df['admission_type_y'])\n",
    "data_df['insurance'] = label_encoder.fit_transform(data_df['insurance'])"
   ]
  },
  {
   "cell_type": "code",
   "execution_count": 4,
   "metadata": {},
   "outputs": [],
   "source": [
    "def check_missing_values(df):\n",
    "    if df.isna().any().any():\n",
    "        return 1 \n",
    "    else:\n",
    "        return 0 "
   ]
  },
  {
   "cell_type": "code",
   "execution_count": 12,
   "metadata": {},
   "outputs": [
    {
     "name": "stdout",
     "output_type": "stream",
     "text": [
      "(2811, 24, 25)\n",
      "(2811, 1)\n"
     ]
    }
   ],
   "source": [
    "total_x = []\n",
    "total_y = []\n",
    "for index, row in flag_data_df.iterrows():\n",
    "    id_df = data_df[data_df['stay_id'] == row['stay_id']]\n",
    "    if not check_missing_values(id_df):\n",
    "        label = id_df['label'].iloc[0] \n",
    "        id_df = id_df.drop(columns='label')\n",
    "        id_df = id_df.drop(columns='charttime')\n",
    "        total_x.append(id_df.values)\n",
    "        total_y.append(label)\n",
    "\n",
    "total_x = np.array(total_x)\n",
    "total_y = np.array(total_y).reshape(-1, 1)\n",
    "\n",
    "print(total_x.shape)\n",
    "print(total_y.shape)\n",
    "        "
   ]
  },
  {
   "cell_type": "code",
   "execution_count": 18,
   "metadata": {},
   "outputs": [],
   "source": [
    "import tensorflow as tf\n",
    "from sklearn.model_selection import train_test_split\n",
    "\n",
    "def train_module(X_train, y_train, X_test, y_test, epoch, learning_rate, batch):\n",
    "\n",
    "    # Define model and train\n",
    "    def build_lstm_model(timesteps, num_features):\n",
    "        model = tf.keras.Sequential([\n",
    "            tf.keras.layers.LSTM(128, input_shape=(timesteps, num_features)),\n",
    "            tf.keras.layers.Dense(1, activation='sigmoid') \n",
    "        ])\n",
    "        model.build(input_shape=(None, timesteps, num_features))\n",
    "        return model\n",
    "\n",
    "    model = build_lstm_model(timesteps=X_train.shape[1], num_features=X_train.shape[2])\n",
    "\n",
    "    model.compile(optimizer=tf.keras.optimizers.Adam(learning_rate=learning_rate),\n",
    "                  loss='binary_crossentropy',  \n",
    "                  metrics=['accuracy'])  \n",
    "\n",
    "    model.fit(X_train, y_train, epochs=epoch, batch_size=batch, validation_data=(X_test, y_test))\n",
    "    return model\n",
    "\n"
   ]
  },
  {
   "cell_type": "code",
   "execution_count": 25,
   "metadata": {},
   "outputs": [
    {
     "name": "stdout",
     "output_type": "stream",
     "text": [
      "Epoch 1/50\n"
     ]
    },
    {
     "name": "stderr",
     "output_type": "stream",
     "text": [
      "2023-11-21 05:52:27.090743: I tensorflow/core/grappler/optimizers/custom_graph_optimizer_registry.cc:114] Plugin optimizer for device_type GPU is enabled.\n",
      "2023-11-21 05:52:27.200374: I tensorflow/core/grappler/optimizers/custom_graph_optimizer_registry.cc:114] Plugin optimizer for device_type GPU is enabled.\n",
      "2023-11-21 05:52:27.277444: I tensorflow/core/grappler/optimizers/custom_graph_optimizer_registry.cc:114] Plugin optimizer for device_type GPU is enabled.\n"
     ]
    },
    {
     "name": "stdout",
     "output_type": "stream",
     "text": [
      "71/71 [==============================] - ETA: 0s - loss: 0.6529 - accuracy: 0.6397"
     ]
    },
    {
     "name": "stderr",
     "output_type": "stream",
     "text": [
      "2023-11-21 05:52:28.286262: I tensorflow/core/grappler/optimizers/custom_graph_optimizer_registry.cc:114] Plugin optimizer for device_type GPU is enabled.\n",
      "2023-11-21 05:52:28.330049: I tensorflow/core/grappler/optimizers/custom_graph_optimizer_registry.cc:114] Plugin optimizer for device_type GPU is enabled.\n"
     ]
    },
    {
     "name": "stdout",
     "output_type": "stream",
     "text": [
      "71/71 [==============================] - 2s 17ms/step - loss: 0.6529 - accuracy: 0.6397 - val_loss: 0.6621 - val_accuracy: 0.6146\n",
      "Epoch 2/50\n",
      "71/71 [==============================] - 1s 13ms/step - loss: 0.6241 - accuracy: 0.6739 - val_loss: 0.6409 - val_accuracy: 0.6412\n",
      "Epoch 3/50\n",
      "71/71 [==============================] - 1s 12ms/step - loss: 0.6254 - accuracy: 0.6557 - val_loss: 0.6392 - val_accuracy: 0.6359\n",
      "Epoch 4/50\n",
      "71/71 [==============================] - 1s 12ms/step - loss: 0.6085 - accuracy: 0.6770 - val_loss: 0.6364 - val_accuracy: 0.6448\n",
      "Epoch 5/50\n",
      "71/71 [==============================] - 1s 12ms/step - loss: 0.6034 - accuracy: 0.6886 - val_loss: 0.6470 - val_accuracy: 0.6394\n",
      "Epoch 6/50\n",
      "71/71 [==============================] - 1s 12ms/step - loss: 0.6088 - accuracy: 0.6828 - val_loss: 0.6229 - val_accuracy: 0.6590\n",
      "Epoch 7/50\n",
      "71/71 [==============================] - 1s 13ms/step - loss: 0.6036 - accuracy: 0.6846 - val_loss: 0.6356 - val_accuracy: 0.6501\n",
      "Epoch 8/50\n",
      "71/71 [==============================] - 1s 12ms/step - loss: 0.6043 - accuracy: 0.6837 - val_loss: 0.6357 - val_accuracy: 0.6465\n",
      "Epoch 9/50\n",
      "71/71 [==============================] - 1s 12ms/step - loss: 0.5974 - accuracy: 0.6922 - val_loss: 0.6271 - val_accuracy: 0.6607\n",
      "Epoch 10/50\n",
      "71/71 [==============================] - 1s 12ms/step - loss: 0.5977 - accuracy: 0.6904 - val_loss: 0.6476 - val_accuracy: 0.6536\n",
      "Epoch 11/50\n",
      "71/71 [==============================] - 1s 13ms/step - loss: 0.5856 - accuracy: 0.6966 - val_loss: 0.6430 - val_accuracy: 0.6448\n",
      "Epoch 12/50\n",
      "71/71 [==============================] - 1s 12ms/step - loss: 0.5887 - accuracy: 0.6988 - val_loss: 0.6384 - val_accuracy: 0.6430\n",
      "Epoch 13/50\n",
      "71/71 [==============================] - 1s 13ms/step - loss: 0.5839 - accuracy: 0.7024 - val_loss: 0.6217 - val_accuracy: 0.6679\n",
      "Epoch 14/50\n",
      "71/71 [==============================] - 1s 12ms/step - loss: 0.5810 - accuracy: 0.6997 - val_loss: 0.6443 - val_accuracy: 0.6821\n",
      "Epoch 15/50\n",
      "71/71 [==============================] - 1s 12ms/step - loss: 0.5784 - accuracy: 0.7109 - val_loss: 0.6286 - val_accuracy: 0.6732\n",
      "Epoch 16/50\n",
      "71/71 [==============================] - 1s 12ms/step - loss: 0.5743 - accuracy: 0.7060 - val_loss: 0.6346 - val_accuracy: 0.6643\n",
      "Epoch 17/50\n",
      "71/71 [==============================] - 1s 12ms/step - loss: 0.5788 - accuracy: 0.7055 - val_loss: 0.6313 - val_accuracy: 0.6661\n",
      "Epoch 18/50\n",
      "71/71 [==============================] - 1s 12ms/step - loss: 0.5825 - accuracy: 0.7037 - val_loss: 0.6305 - val_accuracy: 0.6519\n",
      "Epoch 19/50\n",
      "71/71 [==============================] - 1s 12ms/step - loss: 0.5761 - accuracy: 0.7140 - val_loss: 0.6286 - val_accuracy: 0.6501\n",
      "Epoch 20/50\n",
      "71/71 [==============================] - 1s 12ms/step - loss: 0.5682 - accuracy: 0.7073 - val_loss: 0.6412 - val_accuracy: 0.6554\n",
      "Epoch 21/50\n",
      "71/71 [==============================] - 1s 12ms/step - loss: 0.5753 - accuracy: 0.7171 - val_loss: 0.6399 - val_accuracy: 0.6572\n",
      "Epoch 22/50\n",
      "71/71 [==============================] - 1s 12ms/step - loss: 0.5738 - accuracy: 0.7086 - val_loss: 0.6349 - val_accuracy: 0.6625\n",
      "Epoch 23/50\n",
      "71/71 [==============================] - 1s 12ms/step - loss: 0.5695 - accuracy: 0.6966 - val_loss: 0.6579 - val_accuracy: 0.6750\n",
      "Epoch 24/50\n",
      "71/71 [==============================] - 1s 12ms/step - loss: 0.5653 - accuracy: 0.7131 - val_loss: 0.6487 - val_accuracy: 0.6572\n",
      "Epoch 25/50\n",
      "71/71 [==============================] - 1s 12ms/step - loss: 0.5758 - accuracy: 0.7077 - val_loss: 0.6558 - val_accuracy: 0.6448\n",
      "Epoch 26/50\n",
      "71/71 [==============================] - 1s 12ms/step - loss: 0.5752 - accuracy: 0.7051 - val_loss: 0.6367 - val_accuracy: 0.6572\n",
      "Epoch 27/50\n",
      "71/71 [==============================] - 1s 12ms/step - loss: 0.5664 - accuracy: 0.7135 - val_loss: 0.6355 - val_accuracy: 0.6750\n",
      "Epoch 28/50\n",
      "71/71 [==============================] - 1s 12ms/step - loss: 0.5604 - accuracy: 0.7184 - val_loss: 0.6375 - val_accuracy: 0.6590\n",
      "Epoch 29/50\n",
      "71/71 [==============================] - 1s 12ms/step - loss: 0.5631 - accuracy: 0.7091 - val_loss: 0.6355 - val_accuracy: 0.6661\n",
      "Epoch 30/50\n",
      "71/71 [==============================] - 1s 13ms/step - loss: 0.5662 - accuracy: 0.7198 - val_loss: 0.6411 - val_accuracy: 0.6696\n",
      "Epoch 31/50\n",
      "71/71 [==============================] - 1s 12ms/step - loss: 0.5585 - accuracy: 0.7198 - val_loss: 0.6469 - val_accuracy: 0.6643\n",
      "Epoch 32/50\n",
      "71/71 [==============================] - 1s 12ms/step - loss: 0.5564 - accuracy: 0.7220 - val_loss: 0.6500 - val_accuracy: 0.6607\n",
      "Epoch 33/50\n",
      "71/71 [==============================] - 1s 12ms/step - loss: 0.5609 - accuracy: 0.7091 - val_loss: 0.6718 - val_accuracy: 0.6625\n",
      "Epoch 34/50\n",
      "71/71 [==============================] - 1s 12ms/step - loss: 0.5540 - accuracy: 0.7238 - val_loss: 0.6446 - val_accuracy: 0.6536\n",
      "Epoch 35/50\n",
      "71/71 [==============================] - 1s 13ms/step - loss: 0.5521 - accuracy: 0.7215 - val_loss: 0.6513 - val_accuracy: 0.6607\n",
      "Epoch 36/50\n",
      "71/71 [==============================] - 1s 12ms/step - loss: 0.5479 - accuracy: 0.7286 - val_loss: 0.6507 - val_accuracy: 0.6501\n",
      "Epoch 37/50\n",
      "71/71 [==============================] - 1s 12ms/step - loss: 0.5503 - accuracy: 0.7238 - val_loss: 0.6693 - val_accuracy: 0.6554\n",
      "Epoch 38/50\n",
      "71/71 [==============================] - 1s 12ms/step - loss: 0.5454 - accuracy: 0.7229 - val_loss: 0.6732 - val_accuracy: 0.6572\n",
      "Epoch 39/50\n",
      "71/71 [==============================] - 1s 12ms/step - loss: 0.5461 - accuracy: 0.7211 - val_loss: 0.6582 - val_accuracy: 0.6607\n",
      "Epoch 40/50\n",
      "71/71 [==============================] - 1s 12ms/step - loss: 0.5469 - accuracy: 0.7264 - val_loss: 0.6732 - val_accuracy: 0.6412\n",
      "Epoch 41/50\n",
      "71/71 [==============================] - 1s 12ms/step - loss: 0.5376 - accuracy: 0.7304 - val_loss: 0.6373 - val_accuracy: 0.6714\n",
      "Epoch 42/50\n",
      "71/71 [==============================] - 1s 13ms/step - loss: 0.5454 - accuracy: 0.7180 - val_loss: 0.6565 - val_accuracy: 0.6377\n",
      "Epoch 43/50\n",
      "71/71 [==============================] - 1s 12ms/step - loss: 0.5330 - accuracy: 0.7286 - val_loss: 0.6437 - val_accuracy: 0.6501\n",
      "Epoch 44/50\n",
      "71/71 [==============================] - 1s 12ms/step - loss: 0.5329 - accuracy: 0.7322 - val_loss: 0.6710 - val_accuracy: 0.6465\n",
      "Epoch 45/50\n",
      "71/71 [==============================] - 1s 12ms/step - loss: 0.5382 - accuracy: 0.7269 - val_loss: 0.6677 - val_accuracy: 0.6341\n",
      "Epoch 46/50\n",
      "71/71 [==============================] - 1s 12ms/step - loss: 0.5353 - accuracy: 0.7264 - val_loss: 0.6989 - val_accuracy: 0.6679\n",
      "Epoch 47/50\n",
      "71/71 [==============================] - 1s 12ms/step - loss: 0.5289 - accuracy: 0.7380 - val_loss: 0.6892 - val_accuracy: 0.6430\n",
      "Epoch 48/50\n",
      "71/71 [==============================] - 1s 12ms/step - loss: 0.5250 - accuracy: 0.7335 - val_loss: 0.7650 - val_accuracy: 0.6181\n",
      "Epoch 49/50\n",
      "71/71 [==============================] - 1s 12ms/step - loss: 0.5254 - accuracy: 0.7384 - val_loss: 0.7132 - val_accuracy: 0.6501\n",
      "Epoch 50/50\n",
      "71/71 [==============================] - 1s 12ms/step - loss: 0.5174 - accuracy: 0.7384 - val_loss: 0.7422 - val_accuracy: 0.6234\n",
      "71/71 [==============================] - 0s 6ms/step - loss: 0.5029 - accuracy: 0.7429\n",
      "Evaluation results: [0.502901017665863, 0.7428825497627258]\n"
     ]
    }
   ],
   "source": [
    "total_x = total_x.astype(np.float32)\n",
    "total_y = total_y.astype(np.float32)\n",
    "total_x[np.isinf(total_x)] = np.nan\n",
    "total_x[np.abs(total_x) > 1e6] = np.nan\n",
    "# Handle NaN values by replacing them with zeros (you can choose a different strategy)\n",
    "total_x[np.isnan(total_x)] = 0.0\n",
    "scaler = MinMaxScaler()\n",
    "total_x_normalized = scaler.fit_transform(total_x.reshape(-1, total_x.shape[-1])).reshape(total_x.shape)\n",
    "\n",
    "X_train, X_test, y_train, y_test = train_test_split(total_x_normalized, total_y, test_size=0.2, random_state=42)\n",
    "model = train_module(X_train, y_train, X_test, y_test, epoch=50, learning_rate=0.001, batch=32)\n",
    "evaluation_results = model.evaluate(X_train, y_train)\n",
    "print(\"Evaluation results:\", evaluation_results)"
   ]
  },
  {
   "cell_type": "code",
   "execution_count": 26,
   "metadata": {},
   "outputs": [
    {
     "name": "stdout",
     "output_type": "stream",
     "text": [
      "18/18 [==============================] - 0s 6ms/step - loss: 0.7422 - accuracy: 0.6234\n",
      "Evaluation results: [0.7421980500221252, 0.6234458684921265]\n"
     ]
    }
   ],
   "source": [
    "evaluation_results = model.evaluate(X_test, y_test)\n",
    "print(\"Evaluation results:\", evaluation_results)"
   ]
  },
  {
   "cell_type": "code",
   "execution_count": 28,
   "metadata": {},
   "outputs": [
    {
     "name": "stdout",
     "output_type": "stream",
     "text": [
      "71/71 [==============================] - 0s 5ms/step\n",
      "AUROC: 0.7934060853073264\n"
     ]
    }
   ],
   "source": [
    "y_pred_proba = model.predict(X_train)\n",
    "\n",
    "# Calculate AUROC\n",
    "auroc = roc_auc_score(y_train, y_pred_proba)\n",
    "print(\"AUROC:\", auroc)"
   ]
  }
 ],
 "metadata": {
  "kernelspec": {
   "display_name": "Python 3.9.13 ('tensorflow')",
   "language": "python",
   "name": "python3"
  },
  "language_info": {
   "codemirror_mode": {
    "name": "ipython",
    "version": 3
   },
   "file_extension": ".py",
   "mimetype": "text/x-python",
   "name": "python",
   "nbconvert_exporter": "python",
   "pygments_lexer": "ipython3",
   "version": "3.9.13"
  },
  "orig_nbformat": 4,
  "vscode": {
   "interpreter": {
    "hash": "ee7d7838ef53998fd22ad7449b76e48b4013ea11e59d28ee193f2cd757746339"
   }
  }
 },
 "nbformat": 4,
 "nbformat_minor": 2
}
