{
 "cells": [
  {
   "cell_type": "code",
   "execution_count": 1,
   "metadata": {},
   "outputs": [],
   "source": [
    "import sys\n",
    "import numpy as np\n",
    "import matplotlib.pyplot as plt\n",
    "import pandas as pd\n",
    "import csv\n",
    "import math\n",
    "from sklearn.preprocessing import LabelEncoder\n",
    "from sklearn.model_selection import train_test_split\n",
    "import os\n",
    "os.environ['TF_CPP_MIN_LOG_LEVEL'] = '2'  # or '3' to suppress all messages\n",
    "import tensorflow as tf\n",
    "from sklearn.preprocessing import MinMaxScaler\n",
    "from sklearn.metrics import roc_auc_score\n",
    "import matplotlib.pyplot as plt\n",
    "from sklearn.metrics import roc_curve, auc\n",
    "label_encoder = LabelEncoder()\n",
    "pd.options.mode.chained_assignment = None\n"
   ]
  },
  {
   "cell_type": "code",
   "execution_count": 193,
   "metadata": {},
   "outputs": [
    {
     "name": "stdout",
     "output_type": "stream",
     "text": [
      "Index(['Unnamed: 0', 'charttime', 'stay_id', 'O2_flow_x', 'heart_rate', 'sbp',\n",
      "       'dbp', 'mbp', 'resp_rate', 'spo2', 'O2_flow_y', 'peep', 'fio2',\n",
      "       'tidal_volume_observed', 'respiratory_rate_set', 'plateau_pressure',\n",
      "       'GCS', 'age_now', 'gender', 'insurance', 'race', 'admission_type',\n",
      "       'first_careunit', 'tobacco', 'label', 'Rev_h', 'dod_h', 'BMI'],\n",
      "      dtype='object')\n"
     ]
    }
   ],
   "source": [
    "raw_data_path = './data/data_by_table/pre_24h_data_v3.csv'\n",
    "flag_data_path = './data/data_by_table/ground_truth.csv'\n",
    "\n",
    "data_df = pd.read_csv(raw_data_path)\n",
    "flag_data_df = pd.read_csv(flag_data_path)\n",
    "data_df['BMI'] = data_df['weight_kg'] / ((data_df['height_cm'] / 100) ** 2)\n",
    "data_df['gender'] = label_encoder.fit_transform(data_df['gender'])\n",
    "data_df['race'] = label_encoder.fit_transform(data_df['race'])\n",
    "data_df['first_careunit'] = label_encoder.fit_transform(data_df['first_careunit'])\n",
    "data_df['admission_type'] = label_encoder.fit_transform(data_df['admission_type'])\n",
    "data_df['insurance'] = label_encoder.fit_transform(data_df['insurance'])\n",
    "data_df = data_df.drop(columns=['height_cm', 'weight_kg'])\n",
    "print(data_df.columns)"
   ]
  },
  {
   "cell_type": "code",
   "execution_count": 194,
   "metadata": {},
   "outputs": [],
   "source": [
    "def check_missing_values(df):\n",
    "    \n",
    "    if df.isna().any().any():\n",
    "        return 1 \n",
    "    else:\n",
    "        return 0 "
   ]
  },
  {
   "cell_type": "code",
   "execution_count": 182,
   "metadata": {},
   "outputs": [],
   "source": [
    "def get_label(id_df):\n",
    "    if not check_missing_values(id_df):\n",
    "            label = id_df['label'].iloc[0]\n",
    "            if label == 1:\n",
    "                label = -72\n",
    "            else:\n",
    "                if id_df['Rev_h'].iloc[0] != -1000:\n",
    "                    label = 48 - id_df['Rev_h'].iloc[0]\n",
    "                elif id_df['dod_h'].iloc[0] != -1000 and id_df['dod_h'].iloc[0]>0 and id_df['dod_h'].iloc[0]<48:\n",
    "                    label = 96 - id_df['dod_h'].iloc[0]*2\n",
    "                else:\n",
    "                    label = 96\n",
    "    return label"
   ]
  },
  {
   "cell_type": "code",
   "execution_count": 206,
   "metadata": {},
   "outputs": [],
   "source": [
    "def lstm_data(flag_data_df, data_df):\n",
    "    total_x = []\n",
    "    total_y = []\n",
    "    for index, row in flag_data_df.iterrows():\n",
    "        id_df = data_df[data_df['stay_id'] == row['stay_id']]\n",
    "        if not check_missing_values(id_df):\n",
    "            label = get_label(id_df)\n",
    "            id_df = id_df.drop(columns='stay_id')\n",
    "            id_df = id_df.drop(columns='label')\n",
    "            id_df = id_df.drop(columns='charttime')\n",
    "            id_df = id_df.drop(columns='Rev_h')\n",
    "            id_df = id_df.drop(columns='dod_h')\n",
    "            total_x.append(id_df.values)\n",
    "            total_y.append(label)\n",
    "\n",
    "    total_x = np.array(total_x)\n",
    "    total_y = np.array(total_y).reshape(-1, 1)\n",
    "    return total_x, total_y"
   ]
  },
  {
   "cell_type": "code",
   "execution_count": 184,
   "metadata": {},
   "outputs": [],
   "source": [
    "def get_diff_value(df,colname,start, end):\n",
    "    start = 23 - start\n",
    "    end = 23 - end\n",
    "    df = df.reset_index()\n",
    "    return (df[colname][end]+df[colname][end-1]+df[colname][end-2]) - (df[colname][start]+df[colname][start+1]+df[colname][start+2])"
   ]
  },
  {
   "cell_type": "code",
   "execution_count": 207,
   "metadata": {},
   "outputs": [],
   "source": [
    "def NN_data(flag_data_df, data_df, hour = 23):\n",
    "    total_x = []\n",
    "    total_y = []\n",
    "    for index, row in flag_data_df.iterrows():\n",
    "        id_df = data_df[data_df['stay_id'] == row['stay_id']]\n",
    "        if not check_missing_values(id_df):\n",
    "            label = get_label(id_df)\n",
    "            id_df = id_df.drop(columns='stay_id')\n",
    "            id_df = id_df.drop(columns='label')\n",
    "            id_df = id_df.drop(columns='charttime')\n",
    "            id_df = id_df.drop(columns='Rev_h')\n",
    "            id_df = id_df.drop(columns='dod_h')\n",
    "\n",
    "\n",
    "            \n",
    "            zero_hr_values = id_df.iloc[hour, :].values\n",
    "            total_x.append(zero_hr_values)\n",
    "            total_y.append(label)\n",
    "    total_x = np.array(total_x)\n",
    "    total_y = np.array(total_y).reshape(-1, 1)\n",
    "    return total_x, total_y\n",
    "        "
   ]
  },
  {
   "cell_type": "code",
   "execution_count": 187,
   "metadata": {},
   "outputs": [],
   "source": [
    "lstm_x, lstm_y = lstm_data(flag_data_df, data_df)"
   ]
  },
  {
   "cell_type": "code",
   "execution_count": 208,
   "metadata": {},
   "outputs": [
    {
     "name": "stdout",
     "output_type": "stream",
     "text": [
      "(2003, 23)\n",
      "(2003, 1)\n"
     ]
    }
   ],
   "source": [
    "NN_x, NN_y = NN_data(flag_data_df, data_df)\n",
    "print(NN_x.shape)\n",
    "print(NN_y.shape)"
   ]
  },
  {
   "cell_type": "code",
   "execution_count": 209,
   "metadata": {},
   "outputs": [
    {
     "name": "stdout",
     "output_type": "stream",
     "text": [
      "[44.]\n"
     ]
    }
   ],
   "source": [
    "print(NN_y[23])"
   ]
  },
  {
   "cell_type": "code",
   "execution_count": 210,
   "metadata": {},
   "outputs": [],
   "source": [
    "import tensorflow as tf\n",
    "from sklearn.model_selection import train_test_split\n",
    "\n",
    "def train_module(X_train, y_train, X_test, y_test, epoch, learning_rate, batch):\n",
    "\n",
    "    # Define model and train\n",
    "    def build_lstm_model(timesteps, num_features):\n",
    "        model = tf.keras.Sequential([\n",
    "            tf.keras.layers.LSTM(128, input_shape=(timesteps, num_features)),\n",
    "            tf.keras.layers.Dense(1) \n",
    "        ])\n",
    "        model.build(input_shape=(None, timesteps, num_features))\n",
    "        return model\n",
    "\n",
    "    model = build_lstm_model(timesteps=X_train.shape[1], num_features=X_train.shape[2])\n",
    "\n",
    "    model.compile(optimizer = tf.keras.optimizers.legacy.Adam(learning_rate=learning_rate), loss='mean_squared_error') \n",
    "\n",
    "    model.fit(X_train, y_train, epochs=epoch, batch_size=batch, validation_data=(X_test, y_test))\n",
    "    return model\n",
    "\n"
   ]
  },
  {
   "cell_type": "code",
   "execution_count": 223,
   "metadata": {},
   "outputs": [],
   "source": [
    "def train_NN_module(X_train, y_train, X_test, y_test, epoch, learning_rate, batch, verbose=1):\n",
    "\n",
    "    # Define model and train\n",
    "    def build_nn_model(input_shape):\n",
    "        model = tf.keras.models.Sequential([\n",
    "            tf.keras.layers.Dense(64, activation='relu', input_shape=input_shape),\n",
    "            tf.keras.layers.Dense(64, activation='relu'),\n",
    "            tf.keras.layers.Dense(32, activation='relu'),\n",
    "            tf.keras.layers.Dense(1)\n",
    "        ])\n",
    "        model.compile(optimizer=tf.keras.optimizers.Adam(learning_rate=learning_rate),\n",
    "                      loss='mean_squared_error')\n",
    "        return model\n",
    "\n",
    "    # Build and compile the model\n",
    "    model = build_nn_model(input_shape=(X_train.shape[1],))\n",
    "\n",
    "    model.compile(optimizer = tf.keras.optimizers.legacy.Adam(learning_rate=learning_rate), loss='mean_squared_error') \n",
    "\n",
    "    model.fit(X_train, y_train, epochs=epoch, batch_size=batch, validation_data=(X_test, y_test), verbose=verbose)\n",
    "    return model"
   ]
  },
  {
   "cell_type": "code",
   "execution_count": 231,
   "metadata": {},
   "outputs": [
    {
     "name": "stdout",
     "output_type": "stream",
     "text": [
      "(1602, 23)\n",
      "(1602, 1)\n",
      "Epoch 1/50\n",
      "51/51 [==============================] - 1s 7ms/step - loss: 4751.2241 - val_loss: 4348.2285\n",
      "Epoch 2/50\n",
      "51/51 [==============================] - 0s 5ms/step - loss: 4173.5200 - val_loss: 3896.0566\n",
      "Epoch 3/50\n",
      "51/51 [==============================] - 0s 4ms/step - loss: 4019.6631 - val_loss: 3769.8418\n",
      "Epoch 4/50\n",
      "51/51 [==============================] - 0s 5ms/step - loss: 3795.4590 - val_loss: 3543.2114\n",
      "Epoch 5/50\n",
      "51/51 [==============================] - 0s 5ms/step - loss: 3505.5686 - val_loss: 3268.8569\n",
      "Epoch 6/50\n",
      "51/51 [==============================] - 0s 4ms/step - loss: 3236.5137 - val_loss: 3185.5574\n",
      "Epoch 7/50\n",
      "51/51 [==============================] - 0s 4ms/step - loss: 3171.0396 - val_loss: 3123.6440\n",
      "Epoch 8/50\n",
      "51/51 [==============================] - 0s 4ms/step - loss: 3045.7007 - val_loss: 3074.3047\n",
      "Epoch 9/50\n",
      "51/51 [==============================] - 0s 4ms/step - loss: 3028.7988 - val_loss: 3148.1987\n",
      "Epoch 10/50\n",
      "51/51 [==============================] - 0s 5ms/step - loss: 3015.2380 - val_loss: 3057.5635\n",
      "Epoch 11/50\n",
      "51/51 [==============================] - 0s 5ms/step - loss: 3000.1248 - val_loss: 3033.9233\n",
      "Epoch 12/50\n",
      "51/51 [==============================] - 0s 5ms/step - loss: 2974.5911 - val_loss: 3071.0144\n",
      "Epoch 13/50\n",
      "51/51 [==============================] - 0s 4ms/step - loss: 2972.2278 - val_loss: 3023.3779\n",
      "Epoch 14/50\n",
      "51/51 [==============================] - 0s 4ms/step - loss: 2981.0588 - val_loss: 3014.5833\n",
      "Epoch 15/50\n",
      "51/51 [==============================] - 0s 4ms/step - loss: 2969.5173 - val_loss: 3091.9233\n",
      "Epoch 16/50\n",
      "51/51 [==============================] - 0s 4ms/step - loss: 2952.0146 - val_loss: 3021.0042\n",
      "Epoch 17/50\n",
      "51/51 [==============================] - 0s 4ms/step - loss: 2935.5010 - val_loss: 3024.1526\n",
      "Epoch 18/50\n",
      "51/51 [==============================] - 0s 4ms/step - loss: 2948.9539 - val_loss: 3091.3025\n",
      "Epoch 19/50\n",
      "51/51 [==============================] - 0s 4ms/step - loss: 2951.6191 - val_loss: 3008.1445\n",
      "Epoch 20/50\n",
      "51/51 [==============================] - 0s 4ms/step - loss: 2953.5071 - val_loss: 3051.0669\n",
      "Epoch 21/50\n",
      "51/51 [==============================] - 0s 4ms/step - loss: 2944.4543 - val_loss: 3030.9526\n",
      "Epoch 22/50\n",
      "51/51 [==============================] - 0s 4ms/step - loss: 2914.5151 - val_loss: 3019.6919\n",
      "Epoch 23/50\n",
      "51/51 [==============================] - 0s 4ms/step - loss: 2921.2783 - val_loss: 3017.2834\n",
      "Epoch 24/50\n",
      "51/51 [==============================] - 0s 4ms/step - loss: 2920.0442 - val_loss: 3079.9917\n",
      "Epoch 25/50\n",
      "51/51 [==============================] - 0s 4ms/step - loss: 2982.6519 - val_loss: 3060.3091\n",
      "Epoch 26/50\n",
      "51/51 [==============================] - 0s 4ms/step - loss: 2923.7761 - val_loss: 3069.1958\n",
      "Epoch 27/50\n",
      "51/51 [==============================] - 0s 4ms/step - loss: 2933.1838 - val_loss: 3021.8674\n",
      "Epoch 28/50\n",
      "51/51 [==============================] - 0s 4ms/step - loss: 2902.6514 - val_loss: 3026.5774\n",
      "Epoch 29/50\n",
      "51/51 [==============================] - 0s 4ms/step - loss: 2911.7683 - val_loss: 3071.8889\n",
      "Epoch 30/50\n",
      "51/51 [==============================] - 0s 4ms/step - loss: 2899.1707 - val_loss: 3104.2712\n",
      "Epoch 31/50\n",
      "51/51 [==============================] - 0s 4ms/step - loss: 2928.1301 - val_loss: 3018.4275\n",
      "Epoch 32/50\n",
      "51/51 [==============================] - 0s 4ms/step - loss: 2906.0393 - val_loss: 3030.8418\n",
      "Epoch 33/50\n",
      "51/51 [==============================] - 0s 4ms/step - loss: 2892.3027 - val_loss: 3088.3960\n",
      "Epoch 34/50\n",
      "51/51 [==============================] - 0s 4ms/step - loss: 2915.4819 - val_loss: 3038.2644\n",
      "Epoch 35/50\n",
      "51/51 [==============================] - 0s 4ms/step - loss: 2898.3984 - val_loss: 3033.5754\n",
      "Epoch 36/50\n",
      "51/51 [==============================] - 0s 5ms/step - loss: 2918.5842 - val_loss: 3044.9526\n",
      "Epoch 37/50\n",
      "51/51 [==============================] - 0s 4ms/step - loss: 2874.3408 - val_loss: 3035.7246\n",
      "Epoch 38/50\n",
      "51/51 [==============================] - 0s 4ms/step - loss: 2895.1973 - val_loss: 3056.8748\n",
      "Epoch 39/50\n",
      "51/51 [==============================] - 0s 4ms/step - loss: 2874.4663 - val_loss: 3110.3240\n",
      "Epoch 40/50\n",
      "51/51 [==============================] - 0s 4ms/step - loss: 2869.8682 - val_loss: 3035.2463\n",
      "Epoch 41/50\n",
      "51/51 [==============================] - 0s 4ms/step - loss: 2858.7581 - val_loss: 3046.1990\n",
      "Epoch 42/50\n",
      "51/51 [==============================] - 0s 4ms/step - loss: 2869.1035 - val_loss: 3054.0203\n",
      "Epoch 43/50\n",
      "51/51 [==============================] - 0s 4ms/step - loss: 2893.0537 - val_loss: 3053.7505\n",
      "Epoch 44/50\n",
      "51/51 [==============================] - 0s 4ms/step - loss: 2855.0125 - val_loss: 3050.8674\n",
      "Epoch 45/50\n",
      "51/51 [==============================] - 0s 4ms/step - loss: 2857.1714 - val_loss: 3161.1929\n",
      "Epoch 46/50\n",
      "51/51 [==============================] - 0s 4ms/step - loss: 2870.2993 - val_loss: 3088.2725\n",
      "Epoch 47/50\n",
      "51/51 [==============================] - 0s 4ms/step - loss: 2859.7986 - val_loss: 3064.5640\n",
      "Epoch 48/50\n",
      "51/51 [==============================] - 0s 4ms/step - loss: 2849.8533 - val_loss: 3150.5750\n",
      "Epoch 49/50\n",
      "51/51 [==============================] - 0s 4ms/step - loss: 2882.8284 - val_loss: 3056.3345\n",
      "Epoch 50/50\n",
      "51/51 [==============================] - 0s 4ms/step - loss: 2840.4006 - val_loss: 3060.7314\n"
     ]
    }
   ],
   "source": [
    "total_x, total_y = NN_data(flag_data_df, data_df, 23)\n",
    "# total_x = lstm_x\n",
    "# total_y = lstm_y\n",
    "total_x = total_x.astype(np.float32)\n",
    "total_y = total_y.astype(np.float32)\n",
    "total_x[np.isinf(total_x)] = np.nan\n",
    "total_x[np.abs(total_x) > 1e6] = np.nan\n",
    "# Handle NaN values by replacing them with zeros (you can choose a different strategy)\n",
    "total_x[np.isnan(total_x)] = 0.0\n",
    "scaler = MinMaxScaler()\n",
    "total_x_normalized = scaler.fit_transform(total_x.reshape(-1, total_x.shape[-1])).reshape(total_x.shape)\n",
    "\n",
    "X_train, X_test, y_train, y_test = train_test_split(total_x_normalized, total_y, test_size=0.2, random_state=4277)\n",
    "print(X_train.shape)\n",
    "print(y_train.shape)\n",
    "model = train_NN_module(X_train, y_train, X_test, y_test, epoch= 50, learning_rate=0.001, batch=32)"
   ]
  },
  {
   "cell_type": "code",
   "execution_count": 232,
   "metadata": {},
   "outputs": [
    {
     "name": "stdout",
     "output_type": "stream",
     "text": [
      "13/13 [==============================] - 0s 3ms/step\n"
     ]
    }
   ],
   "source": [
    "y_pred_proba = model.predict(X_test)\n",
    "y_pred = np.where(y_pred_proba > 0, 1, 0)\n",
    "y_label = np.where(y_test > 0, 1, 0)"
   ]
  },
  {
   "cell_type": "code",
   "execution_count": 233,
   "metadata": {},
   "outputs": [
    {
     "name": "stdout",
     "output_type": "stream",
     "text": [
      "AUC-ROC: 0.7244525547445255\n"
     ]
    },
    {
     "data": {
      "image/png": "[encoded data removed]",
      "text/plain": [
       "<Figure size 800x800 with 1 Axes>"
      ]
     },
     "metadata": {},
     "output_type": "display_data"
    }
   ],
   "source": [
    "fpr, tpr, _ = roc_curve(y_label, y_pred_proba)\n",
    "roc_auc = auc(fpr, tpr)\n",
    "print(\"AUC-ROC:\", roc_auc)\n",
    "# Plot ROC curve\n",
    "plt.figure(figsize=(8, 8))\n",
    "plt.plot(fpr, tpr, color='darkorange', lw=2, label='ROC curve (area = {:.2f})'.format(roc_auc))\n",
    "plt.plot([0, 1], [0, 1], color='navy', lw=2, linestyle='--')\n",
    "plt.xlabel('False Positive Rate')\n",
    "plt.ylabel('True Positive Rate')\n",
    "plt.title('Receiver Operating Characteristic (ROC) Curve')\n",
    "plt.legend(loc='lower right')\n",
    "plt.show()"
   ]
  },
  {
   "cell_type": "markdown",
   "metadata": {},
   "source": [
    "# experiment"
   ]
  },
  {
   "cell_type": "code",
   "execution_count": 234,
   "metadata": {},
   "outputs": [
    {
     "name": "stdout",
     "output_type": "stream",
     "text": [
      "13/13 [==============================] - 0s 2ms/step\n",
      "0 0.651231527093596\n",
      "13/13 [==============================] - 0s 2ms/step\n",
      "1 0.6619321291735085\n",
      "13/13 [==============================] - 0s 2ms/step\n",
      "2 0.6769293924466339\n",
      "13/13 [==============================] - 0s 2ms/step\n",
      "3 0.6805418719211823\n",
      "13/13 [==============================] - 0s 2ms/step\n",
      "4 0.6584838533114395\n",
      "13/13 [==============================] - 0s 2ms/step\n",
      "5 0.6759715380405036\n",
      "13/13 [==============================] - 0s 3ms/step\n",
      "6 0.6810892172961138\n",
      "13/13 [==============================] - 0s 2ms/step\n",
      "7 0.6718117131910235\n",
      "13/13 [==============================] - 0s 2ms/step\n",
      "8 0.6512862616310893\n",
      "13/13 [==============================] - 0s 2ms/step\n",
      "9 0.6666666666666667\n",
      "13/13 [==============================] - 0s 2ms/step\n",
      "10 0.6746305418719211\n",
      "13/13 [==============================] - 0s 2ms/step\n",
      "11 0.6755062944718118\n",
      "13/13 [==============================] - 0s 2ms/step\n",
      "12 0.6614668856048167\n",
      "13/13 [==============================] - 0s 2ms/step\n",
      "13 0.6663382594417078\n",
      "13/13 [==============================] - 0s 2ms/step\n",
      "14 0.6630541871921183\n",
      "13/13 [==============================] - 0s 2ms/step\n",
      "15 0.6433497536945814\n",
      "13/13 [==============================] - 0s 2ms/step\n",
      "16 0.6693212917350848\n",
      "13/13 [==============================] - 0s 2ms/step\n",
      "17 0.6804324028461959\n"
     ]
    }
   ],
   "source": [
    "hour_before_weaninig = []\n",
    "auroc = []\n",
    "models = []\n",
    "\n",
    "for i in range (24):\n",
    "    total_x, total_y = NN_data(flag_data_df, data_df, i)\n",
    "    total_x = total_x.astype(np.float32)\n",
    "    total_y = total_y.astype(np.float32)\n",
    "    total_x[np.isinf(total_x)] = np.nan\n",
    "    total_x[np.abs(total_x) > 1e6] = np.nan\n",
    "    total_x[np.isnan(total_x)] = 0.0\n",
    "    scaler = MinMaxScaler()\n",
    "    total_x_normalized = scaler.fit_transform(total_x.reshape(-1, total_x.shape[-1])).reshape(total_x.shape)\n",
    "    X_train, X_test, y_train, y_test = train_test_split(total_x_normalized, total_y, test_size=0.2, random_state=42)\n",
    "    model = train_NN_module(X_train, y_train, X_test, y_test, epoch= 100, learning_rate=0.001, batch=32, verbose=0)\n",
    "    y_pred_proba = model.predict(X_test)\n",
    "    y_pred = np.where(y_pred_proba > 0, 1, 0)\n",
    "    y_label = np.where(y_test > 0, 1, 0)\n",
    "    fpr, tpr, _ = roc_curve(y_label, y_pred_proba)\n",
    "    roc_auc = auc(fpr, tpr)\n",
    "    hour_before_weaninig.append(i)\n",
    "    auroc.append(roc_auc)\n",
    "    models.append(model)\n",
    "    print(i, roc_auc)"
   ]
  },
  {
   "cell_type": "code",
   "execution_count": 138,
   "metadata": {},
   "outputs": [
    {
     "data": {
      "image/png": "[encoded data removed]",
      "text/plain": [
       "<Figure size 640x480 with 1 Axes>"
      ]
     },
     "metadata": {},
     "output_type": "display_data"
    }
   ],
   "source": [
    "import matplotlib.pyplot as plt\n",
    "hour_before_weaninig = hour_before_weaninig[::-1]\n",
    "# 画折线图\n",
    "plt.plot(hour_before_weaninig, auroc, marker='o')\n",
    "\n",
    "# 添加标签和标题\n",
    "plt.xlabel('Hour Before Weaning')\n",
    "plt.ylabel('AUROC')\n",
    "plt.title('AUROC over Time Before Weaning')\n",
    "\n",
    "# 显示图形\n",
    "plt.show()\n"
   ]
  },
  {
   "cell_type": "code",
   "execution_count": null,
   "metadata": {},
   "outputs": [],
   "source": [
    "def plot_next_24h(target_id, data_df, models, hour = 8):\n",
    "    survive_score = []\n",
    "    id_df = data_df[data_df['stay_id'] == target_id]\n",
    "    id_df = id_df.reset_index()\n",
    "    id_df = id_df.drop(columns='label')\n",
    "    id_df = id_df.drop(columns='charttime')\n",
    "    input = id_df.iloc[23-8, :].values\n",
    "    input = input.reshape((1, -1))\n",
    "    print(input.shape)\n",
    "    for i in range (24):\n",
    "        output = models[i].predict(input)\n",
    "        survive_score.append(output[0])\n",
    "    return survive_score\n"
   ]
  },
  {
   "cell_type": "code",
   "execution_count": null,
   "metadata": {},
   "outputs": [],
   "source": [
    "target_id = 30832709\n",
    "survive_score = plot_next_24h(target_id, data_df, models)\n",
    "plt.plot(survive_score, auroc, marker='o')\n",
    "\n",
    "plt.xlabel('after n hour weaning')\n",
    "plt.ylabel('survive_score')\n",
    "plt.title('survive_score over after n hour weaning')\n",
    "\n",
    "plt.show()\n"
   ]
  }
 ],
 "metadata": {
  "kernelspec": {
   "display_name": "Python 3.9.13 ('tensorflow')",
   "language": "python",
   "name": "python3"
  },
  "language_info": {
   "codemirror_mode": {
    "name": "ipython",
    "version": 3
   },
   "file_extension": ".py",
   "mimetype": "text/x-python",
   "name": "python",
   "nbconvert_exporter": "python",
   "pygments_lexer": "ipython3",
   "version": "3.9.13"
  },
  "orig_nbformat": 4,
  "vscode": {
   "interpreter": {
    "hash": "ee7d7838ef53998fd22ad7449b76e48b4013ea11e59d28ee193f2cd757746339"
   }
  }
 },
 "nbformat": 4,
 "nbformat_minor": 2
}
