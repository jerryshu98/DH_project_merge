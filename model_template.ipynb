{
 "cells": [
  {
   "cell_type": "code",
   "execution_count": 1080,
   "metadata": {},
   "outputs": [],
   "source": [
    "import sys\n",
    "import numpy as np\n",
    "import matplotlib.pyplot as plt\n",
    "import pandas as pd\n",
    "import csv\n",
    "import math\n",
    "from sklearn.preprocessing import LabelEncoder\n",
    "from sklearn.model_selection import train_test_split\n",
    "import os\n",
    "os.environ['TF_CPP_MIN_LOG_LEVEL'] = '2'  # or '3' to suppress all messages\n",
    "import tensorflow as tf\n",
    "from sklearn.preprocessing import MinMaxScaler\n",
    "from sklearn.metrics import roc_auc_score, accuracy_score\n",
    "import matplotlib.pyplot as plt\n",
    "from sklearn.metrics import roc_curve, auc\n",
    "label_encoder = LabelEncoder()\n",
    "pd.options.mode.chained_assignment = None\n"
   ]
  },
  {
   "cell_type": "code",
   "execution_count": 1081,
   "metadata": {},
   "outputs": [
    {
     "name": "stdout",
     "output_type": "stream",
     "text": [
      "Index(['Unnamed: 0', 'charttime', 'stay_id', 'O2_flow', 'heart_rate', 'sbp',\n",
      "       'dbp', 'mbp', 'resp_rate', 'spo2', 'O2_flow_y', 'peep', 'fio2',\n",
      "       'tidal_volume_observed', 'respiratory_rate_set', 'plateau_pressure',\n",
      "       'GCS', 'age_now', 'gender', 'insurance', 'race', 'admission_type',\n",
      "       'first_careunit', 'tobacco', 'label', 'Rev_h', 'dod_h', 'BMI', 'RSBI',\n",
      "       'minute_ventilation'],\n",
      "      dtype='object')\n",
      "0        2144-01-11 20:00:00\n",
      "1        2144-01-11 21:00:00\n",
      "2        2144-01-11 22:00:00\n",
      "3        2144-01-11 23:00:00\n",
      "4        2144-01-12 00:00:00\n",
      "                ...         \n",
      "68155    2124-08-21 05:00:00\n",
      "68156    2124-08-21 06:00:00\n",
      "68157    2124-08-21 07:00:00\n",
      "68158    2124-08-21 08:00:00\n",
      "68159    2124-08-21 09:00:00\n",
      "Name: charttime, Length: 68160, dtype: object\n"
     ]
    }
   ],
   "source": [
    "label_path = './data/data_by_table/pre_24h_data_v3.csv'\n",
    "flag_data_path = './data/data_by_table/ground_truth.csv'\n",
    "raw_data_path = './data/data_by_table/pre_24_merged_30_rows_12_07.csv'\n",
    "\n",
    "data_df = pd.read_csv(label_path)\n",
    "flag_data_df = pd.read_csv(flag_data_path)\n",
    "label_df = pd.read_csv(label_path)\n",
    "data_df['BMI'] = data_df['weight_kg'] / ((data_df['height_cm'] / 100) ** 2)\n",
    "data_df['gender'] = label_encoder.fit_transform(data_df['gender'])\n",
    "data_df['race'] = label_encoder.fit_transform(data_df['race'])\n",
    "data_df['first_careunit'] = label_encoder.fit_transform(data_df['first_careunit'])\n",
    "data_df['admission_type'] = label_encoder.fit_transform(data_df['admission_type'])\n",
    "data_df['insurance'] = label_encoder.fit_transform(data_df['insurance'])\n",
    "data_df = data_df.drop(columns=['height_cm', 'weight_kg'])\n",
    "data_df['RSBI'] =  data_df['tidal_volume_observed'] / data_df['resp_rate']\n",
    "data_df['minute_ventilation'] = data_df['tidal_volume_observed'] * data_df['resp_rate']\n",
    "print(data_df.columns)\n",
    "print(data_df['charttime'])\n",
    "TVF_model = tf.keras.models.load_model('my_model.h5')"
   ]
  },
  {
   "cell_type": "code",
   "execution_count": 1082,
   "metadata": {},
   "outputs": [],
   "source": [
    "def check_missing_values(df):\n",
    "    \n",
    "    if df.isna().any().any():\n",
    "        return 1 \n",
    "    else:\n",
    "        return 0 "
   ]
  },
  {
   "cell_type": "code",
   "execution_count": 1167,
   "metadata": {},
   "outputs": [],
   "source": [
    "def get_label(id_df):\n",
    "    label = 0\n",
    "    if not check_missing_values(id_df):\n",
    "            label = id_df['label'].iloc[0]\n",
    "            if label == 1:\n",
    "                label = 48\n",
    "            else:\n",
    "                if id_df['Rev_h'].iloc[0] != -1000:\n",
    "                    label = -(48 - id_df['Rev_h'].iloc[0])\n",
    "                elif id_df['dod_h'].iloc[0] != -1000 and id_df['dod_h'].iloc[0]>0 and id_df['dod_h'].iloc[0]<48:\n",
    "                    label = -(96 - id_df['dod_h'].iloc[0]*2)\n",
    "                else:\n",
    "                    label = -96 \n",
    "    return label"
   ]
  },
  {
   "cell_type": "code",
   "execution_count": 907,
   "metadata": {},
   "outputs": [],
   "source": [
    "def lstm_data(flag_data_df, data_df):\n",
    "    total_x = []\n",
    "    total_y = []\n",
    "    for index, row in flag_data_df.iterrows():\n",
    "        id_df = data_df[data_df['stay_id'] == row['stay_id']]\n",
    "        if not check_missing_values(id_df):\n",
    "            label = get_label(id_df)\n",
    "            id_df = id_df.drop(columns='stay_id')\n",
    "            id_df = id_df.drop(columns='label')\n",
    "            id_df = id_df.drop(columns='charttime')\n",
    "            id_df = id_df.drop(columns='Rev_h')\n",
    "            id_df = id_df.drop(columns='dod_h')\n",
    "            total_x.append(id_df.values)\n",
    "            total_y.append(label)\n",
    "\n",
    "    total_x = np.array(total_x)\n",
    "    total_y = np.array(total_y).reshape(-1, 1)\n",
    "    return total_x, total_y"
   ]
  },
  {
   "cell_type": "code",
   "execution_count": 1209,
   "metadata": {},
   "outputs": [],
   "source": [
    "aug_columns = ['spo2','peep','heart_rate','respiratory_rate_set','plateau_pressure','tidal_volume_observed','fio2','O2_flow','sbp','dbp','mbp','resp_rate','RSBI','minute_ventilation']\n",
    "\n",
    "def NN_data(flag_data_df, data_df,label_df,  hour = 23):\n",
    "    total_x = []\n",
    "    total_y = []\n",
    "    for index, row in flag_data_df.iterrows():\n",
    "        id_df = data_df[data_df['stay_id'] == row['stay_id']]\n",
    "        id_df_label = label_df[label_df['stay_id'] == row['stay_id']]\n",
    "        if not check_missing_values(id_df):\n",
    "            label = get_label(id_df_label)\n",
    "            id_df = id_df.drop(columns='stay_id')\n",
    "            id_df = id_df.drop(columns='label')\n",
    "            id_df = id_df.drop(columns='charttime')\n",
    "            id_df = id_df.drop(columns='Rev_h')\n",
    "            #id_df = id_df.drop(columns='dod_h')\n",
    "\n",
    "            \n",
    "            zero_hr_values = id_df.iloc[hour, :].values\n",
    "            zero_hr_values = generate_more_feature(id_df, aug_columns ,zero_hr_values)\n",
    "\n",
    "            #zero_hr_values = np.append(zero_hr_values,  get_TVF_diff(id_df))\n",
    "            total_x.append(zero_hr_values)\n",
    "            total_y.append(label)\n",
    "    total_x = np.array(total_x)\n",
    "    total_y = np.array(total_y).reshape(-1, 1)\n",
    "    return total_x, total_y\n",
    "        "
   ]
  },
  {
   "cell_type": "code",
   "execution_count": 418,
   "metadata": {},
   "outputs": [],
   "source": [
    "lstm_x, lstm_y = lstm_data(flag_data_df, data_df)"
   ]
  },
  {
   "cell_type": "code",
   "execution_count": 249,
   "metadata": {},
   "outputs": [],
   "source": [
    "import tensorflow as tf\n",
    "from sklearn.model_selection import train_test_split\n",
    "\n",
    "def train_module(X_train, y_train, X_test, y_test, epoch, learning_rate, batch):\n",
    "\n",
    "    # Define model and train\n",
    "    def build_lstm_model(timesteps, num_features):\n",
    "        model = tf.keras.Sequential([\n",
    "            tf.keras.layers.LSTM(128, input_shape=(timesteps, num_features)),\n",
    "            tf.keras.layers.Dense(1) \n",
    "        ])\n",
    "        model.build(input_shape=(None, timesteps, num_features))\n",
    "        return model\n",
    "\n",
    "    model = build_lstm_model(timesteps=X_train.shape[1], num_features=X_train.shape[2])\n",
    "\n",
    "    model.compile(optimizer = tf.keras.optimizers.legacy.Adam(learning_rate=learning_rate), loss='mean_squared_error') \n",
    "\n",
    "    model.fit(X_train, y_train, epochs=epoch, batch_size=batch, validation_data=(X_test, y_test))\n",
    "    return model\n",
    "\n"
   ]
  },
  {
   "cell_type": "code",
   "execution_count": 1178,
   "metadata": {},
   "outputs": [],
   "source": [
    "total_x, total_y = NN_data(flag_data_df, data_df,label_df)"
   ]
  },
  {
   "cell_type": "code",
   "execution_count": 1210,
   "metadata": {},
   "outputs": [
    {
     "name": "stdout",
     "output_type": "stream",
     "text": [
      "(1602, 124)\n",
      "(1602, 1)\n",
      "Epoch 1/30\n",
      "51/51 [==============================] - 1s 18ms/step - loss: 2822.1528 - val_loss: 2978.9377\n",
      "Epoch 2/30\n",
      "51/51 [==============================] - 1s 10ms/step - loss: 2643.7346 - val_loss: 2705.9817\n",
      "Epoch 3/30\n",
      "51/51 [==============================] - 0s 5ms/step - loss: 2447.5725 - val_loss: 2468.1104\n",
      "Epoch 4/30\n",
      "51/51 [==============================] - 0s 5ms/step - loss: 2214.0430 - val_loss: 2361.5344\n",
      "Epoch 5/30\n",
      "51/51 [==============================] - 0s 6ms/step - loss: 2073.8655 - val_loss: 2084.2358\n",
      "Epoch 6/30\n",
      "51/51 [==============================] - 0s 5ms/step - loss: 2076.5767 - val_loss: 2082.5552\n",
      "Epoch 7/30\n",
      "51/51 [==============================] - 0s 5ms/step - loss: 1985.3174 - val_loss: 2062.7395\n",
      "Epoch 8/30\n",
      "51/51 [==============================] - 0s 7ms/step - loss: 2002.6707 - val_loss: 2042.8188\n",
      "Epoch 9/30\n",
      "51/51 [==============================] - 0s 6ms/step - loss: 1970.1152 - val_loss: 2031.9163\n",
      "Epoch 10/30\n",
      "51/51 [==============================] - 0s 5ms/step - loss: 1940.1139 - val_loss: 2026.0664\n",
      "Epoch 11/30\n",
      "51/51 [==============================] - 0s 5ms/step - loss: 1912.7859 - val_loss: 2101.3535\n",
      "Epoch 12/30\n",
      "51/51 [==============================] - 0s 5ms/step - loss: 1946.3875 - val_loss: 2102.7646\n",
      "Epoch 13/30\n",
      "51/51 [==============================] - 0s 5ms/step - loss: 1916.2581 - val_loss: 2338.7861\n",
      "Epoch 14/30\n",
      "51/51 [==============================] - 0s 5ms/step - loss: 1983.8740 - val_loss: 2018.0635\n",
      "Epoch 15/30\n",
      "51/51 [==============================] - 0s 5ms/step - loss: 1900.4973 - val_loss: 2039.4998\n",
      "Epoch 16/30\n",
      "51/51 [==============================] - 0s 5ms/step - loss: 1913.3585 - val_loss: 2025.5043\n",
      "Epoch 17/30\n",
      "51/51 [==============================] - 0s 5ms/step - loss: 1900.0603 - val_loss: 2061.6304\n",
      "Epoch 18/30\n",
      "51/51 [==============================] - 0s 5ms/step - loss: 1882.4530 - val_loss: 2088.3530\n",
      "Epoch 19/30\n",
      "51/51 [==============================] - 0s 5ms/step - loss: 1908.0892 - val_loss: 2218.3892\n",
      "Epoch 20/30\n",
      "51/51 [==============================] - 0s 6ms/step - loss: 1908.4124 - val_loss: 2085.9353\n",
      "Epoch 21/30\n",
      "51/51 [==============================] - 0s 5ms/step - loss: 1930.2150 - val_loss: 2081.0486\n",
      "Epoch 22/30\n",
      "51/51 [==============================] - 0s 6ms/step - loss: 1941.4033 - val_loss: 2111.4692\n",
      "Epoch 23/30\n",
      "51/51 [==============================] - 0s 5ms/step - loss: 1859.9445 - val_loss: 2061.0361\n",
      "Epoch 24/30\n",
      "51/51 [==============================] - 0s 7ms/step - loss: 1868.3564 - val_loss: 2228.2900\n",
      "Epoch 25/30\n",
      "51/51 [==============================] - 0s 6ms/step - loss: 1863.6797 - val_loss: 2045.2327\n",
      "Epoch 26/30\n",
      "51/51 [==============================] - 0s 5ms/step - loss: 1830.4509 - val_loss: 2167.7207\n",
      "Epoch 27/30\n",
      "51/51 [==============================] - 0s 5ms/step - loss: 1842.6719 - val_loss: 2044.0288\n",
      "Epoch 28/30\n",
      "51/51 [==============================] - 0s 5ms/step - loss: 1836.9252 - val_loss: 2035.1097\n",
      "Epoch 29/30\n",
      "51/51 [==============================] - 0s 6ms/step - loss: 1812.9235 - val_loss: 2042.4891\n",
      "Epoch 30/30\n",
      "51/51 [==============================] - 0s 5ms/step - loss: 1818.3890 - val_loss: 2079.2952\n"
     ]
    }
   ],
   "source": [
    "# total_x = lstm_x\n",
    "# total_y = lstm_y\n",
    "total_x = total_x.astype(np.float32)\n",
    "total_y = total_y.astype(np.float32)\n",
    "total_x[np.isinf(total_x)] = np.nan\n",
    "total_x[np.abs(total_x) > 1e6] = np.nan\n",
    "# Handle NaN values by replacing them with zeros (you can choose a different strategy)\n",
    "total_x[np.isnan(total_x)] = 0.0\n",
    "scaler = MinMaxScaler()\n",
    "total_x_normalized = scaler.fit_transform(total_x.reshape(-1, total_x.shape[-1])).reshape(total_x.shape)\n",
    "\n",
    "X_train, X_test, y_train, y_test = train_test_split(total_x_normalized, total_y, test_size=0.2, random_state=433432)#4277  433432\n",
    "print(X_train.shape)\n",
    "print(y_train.shape)\n",
    "model = train_NN_module(X_train, y_train, X_test, y_test, epoch= 30, learning_rate=0.001, batch=32)"
   ]
  },
  {
   "cell_type": "code",
   "execution_count": 1211,
   "metadata": {},
   "outputs": [
    {
     "name": "stdout",
     "output_type": "stream",
     "text": [
      "13/13 [==============================] - 0s 3ms/step\n"
     ]
    }
   ],
   "source": [
    "y_pred_proba = model.predict(X_test)\n",
    "y_pred = np.where(y_pred_proba >0 , 1, 0)\n",
    "y_label = np.where(y_test > 0, 1, 0)\n",
    "y_train_label = np.where(y_train > 0, 1, 0)"
   ]
  },
  {
   "cell_type": "code",
   "execution_count": 1212,
   "metadata": {},
   "outputs": [],
   "source": [
    "def false_percentage(y_label):\n",
    "    zero = len(y_label) - np.count_nonzero(y_label)\n",
    "    print(f\"false percentage: {(zero/len(y_label)) * 100:.2f}%\")"
   ]
  },
  {
   "cell_type": "code",
   "execution_count": 1213,
   "metadata": {},
   "outputs": [],
   "source": [
    "def calculate_tpr_tnr(y_true, y_pred):\n",
    "    # 计算 TP, FN, TN, FP\n",
    "    TP = sum((y_true == 1) & (y_pred == 1))\n",
    "    FN = sum((y_true == 1) & (y_pred == 0))\n",
    "    TN = sum((y_true == 0) & (y_pred == 0))\n",
    "    FP = sum((y_true == 0) & (y_pred == 1))\n",
    "\n",
    "    # 计算 TPR 和 TNR\n",
    "    TPR = TP / (TP + FN) if (TP + FN) != 0 else 0\n",
    "    TNR = TN / (TN + FP) if (TN + FP) != 0 else 0\n",
    "\n",
    "    return TPR, TNR"
   ]
  },
  {
   "cell_type": "code",
   "execution_count": 1214,
   "metadata": {},
   "outputs": [
    {
     "name": "stdout",
     "output_type": "stream",
     "text": [
      "TPR: [0.80769231]\n",
      "TNR: [0.56737589]\n",
      "Accuracy: 72.32%\n"
     ]
    }
   ],
   "source": [
    "accuracy = np.mean(y_pred == y_label)\n",
    "tpr, tnr = calculate_tpr_tnr(y_label, y_pred)\n",
    "print(\"TPR:\", tpr)\n",
    "print(\"TNR:\", tnr)\n",
    "print(f'Accuracy: {accuracy * 100:.2f}%')\n"
   ]
  },
  {
   "cell_type": "code",
   "execution_count": 1215,
   "metadata": {},
   "outputs": [
    {
     "name": "stdout",
     "output_type": "stream",
     "text": [
      "false percentage: 35.16%\n",
      "false percentage: 32.42%\n",
      "false percentage: 35.21%\n"
     ]
    }
   ],
   "source": [
    "false_percentage(y_label)\n",
    "false_percentage(y_pred)\n",
    "false_percentage(y_train_label)"
   ]
  },
  {
   "cell_type": "code",
   "execution_count": 1216,
   "metadata": {},
   "outputs": [
    {
     "name": "stdout",
     "output_type": "stream",
     "text": [
      "AUROC: 0.7648663393344244\n",
      "AUC-ROC: 0.7648663393344244\n"
     ]
    },
    {
     "data": {
      "image/png": "[encoded data removed]",
      "text/plain": [
       "<Figure size 800x800 with 1 Axes>"
      ]
     },
     "metadata": {},
     "output_type": "display_data"
    }
   ],
   "source": [
    "fpr, tpr, thresholds = roc_curve(y_label, y_pred_proba)\n",
    "auroc = roc_auc_score(y_label, y_pred_proba)\n",
    "print(\"AUROC:\", auroc)\n",
    "#print(y_pred)\n",
    "roc_auc = auc(fpr, tpr)\n",
    "print(\"AUC-ROC:\", roc_auc)\n",
    "# Plot ROC curve\n",
    "plt.figure(figsize=(8, 8))\n",
    "plt.plot(fpr, tpr, color='darkorange', lw=2, label='ROC curve (area = {:.2f})'.format(roc_auc))\n",
    "plt.plot([0, 1], [0, 1], color='navy', lw=2, linestyle='--')\n",
    "plt.xlabel('False Positive Rate')\n",
    "plt.ylabel('True Positive Rate')\n",
    "plt.title('Receiver Operating Characteristic (ROC) Curve')\n",
    "plt.legend(loc='lower right')\n",
    "plt.show()"
   ]
  },
  {
   "cell_type": "code",
   "execution_count": null,
   "metadata": {},
   "outputs": [],
   "source": []
  }
 ],
 "metadata": {
  "kernelspec": {
   "display_name": "Python 3.9.13 ('tensorflow')",
   "language": "python",
   "name": "python3"
  },
  "language_info": {
   "codemirror_mode": {
    "name": "ipython",
    "version": 3
   },
   "file_extension": ".py",
   "mimetype": "text/x-python",
   "name": "python",
   "nbconvert_exporter": "python",
   "pygments_lexer": "ipython3",
   "version": "3.9.13"
  },
  "orig_nbformat": 4,
  "vscode": {
   "interpreter": {
    "hash": "ee7d7838ef53998fd22ad7449b76e48b4013ea11e59d28ee193f2cd757746339"
   }
  }
 },
 "nbformat": 4,
 "nbformat_minor": 2
}
